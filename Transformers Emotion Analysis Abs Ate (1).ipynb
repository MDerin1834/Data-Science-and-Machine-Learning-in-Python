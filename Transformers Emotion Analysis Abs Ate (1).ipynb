{
 "cells": [
  {
   "cell_type": "code",
   "execution_count": null,
   "id": "37d6b1fe",
   "metadata": {},
   "outputs": [],
   "source": [
    "!pip install transformers\n",
    "!pip install datasets\n",
    "!pip install bertviz\n",
    "!pip install umap-learn\n",
    "\n",
    "import pandas as pd\n",
    "from datasets import list_datasets\n",
    "\n",
    "all_datasets = list_datasets()"
   ]
  },
  {
   "cell_type": "code",
   "execution_count": null,
   "id": "ae0d0c13",
   "metadata": {},
   "outputs": [],
   "source": [
    "all_datasets"
   ]
  },
  {
   "cell_type": "code",
   "execution_count": null,
   "id": "0431f3d3",
   "metadata": {},
   "outputs": [],
   "source": [
    "len(all_datasets)"
   ]
  },
  {
   "cell_type": "code",
   "execution_count": null,
   "id": "e26e6a72",
   "metadata": {},
   "outputs": [],
   "source": [
    "\"dair-ai/emotion\" in all_datasets"
   ]
  },
  {
   "cell_type": "code",
   "execution_count": null,
   "id": "3f66dff8",
   "metadata": {},
   "outputs": [],
   "source": [
    "from datasets import load_dataset\n",
    "\n",
    "emotion = load_dataset(\"emotion\") # to load the dataset\n",
    "emotion.set_format(type = \"pandas\") # !!!!"
   ]
  },
  {
   "cell_type": "code",
   "execution_count": null,
   "id": "5eee6fa4",
   "metadata": {},
   "outputs": [],
   "source": [
    "emotion[\"train\"][:5]"
   ]
  },
  {
   "cell_type": "code",
   "execution_count": null,
   "id": "75ca1acf",
   "metadata": {},
   "outputs": [],
   "source": [
    "emotion[\"train\"].head()"
   ]
  },
  {
   "cell_type": "code",
   "execution_count": null,
   "id": "1753c33f",
   "metadata": {},
   "outputs": [],
   "source": [
    "classes = emotion[\"train\"].features[\"label\"].names\n",
    "classes"
   ]
  },
  {
   "cell_type": "code",
   "execution_count": null,
   "id": "e1af8cad",
   "metadata": {},
   "outputs": [],
   "source": [
    "df[\"label_name\"] = df[\"label\"].apply(lambda x: classes)"
   ]
  },
  {
   "cell_type": "code",
   "execution_count": null,
   "id": "a93c8aa1",
   "metadata": {},
   "outputs": [],
   "source": [
    "# Data Analysis"
   ]
  },
  {
   "cell_type": "code",
   "execution_count": null,
   "id": "6395fa0d",
   "metadata": {},
   "outputs": [],
   "source": [
    "import matplotlib.pyplot as plt\n",
    "label_counts = df[\"label_name\"].value_counts()\n",
    "label_counts"
   ]
  },
  {
   "cell_type": "code",
   "execution_count": null,
   "id": "7b9ecab5",
   "metadata": {},
   "outputs": [],
   "source": [
    "label_counts.plot.barh()\n",
    "plt.title(\"Frequency of classes\")"
   ]
  },
  {
   "cell_type": "code",
   "execution_count": null,
   "id": "b1269b11",
   "metadata": {},
   "outputs": [],
   "source": [
    "label_counts.plot.barv()\n",
    "plt.title(\"Frequency of classes\")"
   ]
  },
  {
   "cell_type": "code",
   "execution_count": null,
   "id": "f3add842",
   "metadata": {},
   "outputs": [],
   "source": [
    "# imbalanced dataset but transformers still work well with imbalanced dataset"
   ]
  },
  {
   "cell_type": "code",
   "execution_count": null,
   "id": "7fadc3bd",
   "metadata": {},
   "outputs": [],
   "source": [
    "df[\"Words_Per_Tweet\"] = df[\"text\"].str.split().apply(len)"
   ]
  },
  {
   "cell_type": "code",
   "execution_count": null,
   "id": "0c295ca0",
   "metadata": {},
   "outputs": [],
   "source": [
    "df.boxplot(\"Words_Per_Tweet\", by = \"label_name\")"
   ]
  },
  {
   "cell_type": "code",
   "execution_count": null,
   "id": "0f59a344",
   "metadata": {},
   "outputs": [],
   "source": [
    "from transformers import AutoTokenizer\n",
    "model_ckpt = \"distilbert-base-uncased\"\n",
    "tokeinzer = AutoTokenizer.from_pretrained(model_ckpt)"
   ]
  },
  {
   "cell_type": "code",
   "execution_count": null,
   "id": "6d67dcbe",
   "metadata": {},
   "outputs": [],
   "source": [
    "text = \"I love machine learning!. Tokenization is slaying!\"\n",
    "encoded_text = tokenizer(text)\n",
    "print(encoded_text)"
   ]
  },
  {
   "cell_type": "code",
   "execution_count": null,
   "id": "33ee103e",
   "metadata": {},
   "outputs": [],
   "source": [
    "tokens = tokenizer.convert_ids_to_tokens(encoded_text.input_ids)\n",
    "print(tokens)"
   ]
  },
  {
   "cell_type": "code",
   "execution_count": null,
   "id": "e8b6e2db",
   "metadata": {},
   "outputs": [],
   "source": [
    "tokenizer.vocab_size, tokenizer.model_max_length"
   ]
  },
  {
   "cell_type": "code",
   "execution_count": null,
   "id": "1496e141",
   "metadata": {},
   "outputs": [],
   "source": [
    "# Actual data applicaiton\n",
    "emotion_reset_format"
   ]
  },
  {
   "cell_type": "code",
   "execution_count": null,
   "id": "de6a72ee",
   "metadata": {},
   "outputs": [],
   "source": [
    "# map\n",
    "\n",
    "def tokenize(batch):\n",
    "    temp = tokenizer(batcj[\"text\"],padding = True, truncation =True)\n",
    "    return temp\n",
    "\n",
    "print(tokenize(emotion[\"train\"][:5]))"
   ]
  },
  {
   "cell_type": "code",
   "execution_count": null,
   "id": "f7fc2b98",
   "metadata": {},
   "outputs": [],
   "source": [
    "emotions_encoded = emotion.map(tokenize, batched =True, batch_size =None)"
   ]
  },
  {
   "cell_type": "code",
   "execution_count": null,
   "id": "d791b141",
   "metadata": {},
   "outputs": [],
   "source": [
    "inputs = tokenizer(text, return_tensors = \"pt\")\n",
    "inputs"
   ]
  },
  {
   "cell_type": "code",
   "execution_count": null,
   "id": "32f8f5db",
   "metadata": {},
   "outputs": [],
   "source": [
    "from transformers import AutoModel\n",
    "import torch\n",
    "\n",
    "model = Automodel.from_pretrained(model_ckpt)"
   ]
  },
  {
   "cell_type": "code",
   "execution_count": null,
   "id": "78838705",
   "metadata": {},
   "outputs": [],
   "source": [
    "model"
   ]
  },
  {
   "cell_type": "code",
   "execution_count": null,
   "id": "b52940c3",
   "metadata": {},
   "outputs": [],
   "source": [
    "with torch = no_grad():\n",
    "    outputs = model(**inputs)\n",
    "    \n",
    "last_hidden_states = outputs.last_hidden_state"
   ]
  },
  {
   "cell_type": "code",
   "execution_count": null,
   "id": "4d1e2203",
   "metadata": {},
   "outputs": [],
   "source": [
    "last_hidden_states.shape"
   ]
  },
  {
   "cell_type": "code",
   "execution_count": null,
   "id": "bdfee194",
   "metadata": {},
   "outputs": [],
   "source": [
    "from transformers import AutoModelForSequenceClassification\n",
    "\n",
    "num_labels = len(classes)\n",
    "device = torch.device(\"cuda\" if torch.cuda.is_available() else \"cpu\")\n",
    "model = AutoModelForSequenceClassification. from_pretrained(model_ckpt,\n",
    "                                            num_labels = num_labels).to(device)"
   ]
  },
  {
   "cell_type": "code",
   "execution_count": null,
   "id": "e3a13764",
   "metadata": {},
   "outputs": [],
   "source": [
    "device"
   ]
  },
  {
   "cell_type": "code",
   "execution_count": null,
   "id": "4474e187",
   "metadata": {},
   "outputs": [],
   "source": [
    "from transformers import TrainingArguments"
   ]
  },
  {
   "cell_type": "code",
   "execution_count": null,
   "id": "3c7f7d31",
   "metadata": {},
   "outputs": [],
   "source": [
    "!pip install transformers[torch]\n",
    "!pip install accelerate -U\n"
   ]
  },
  {
   "cell_type": "code",
   "execution_count": null,
   "id": "ce7b2124",
   "metadata": {},
   "outputs": [],
   "source": [
    "!pip install -U transformers\n",
    "!pip install -U accelerate\n",
    "!pip install -U datasets"
   ]
  },
  {
   "cell_type": "code",
   "execution_count": null,
   "id": "efc8d9eb",
   "metadata": {},
   "outputs": [],
   "source": [
    "batch_size = 64\n",
    "model_name = \"distilbert-finetuned-emotion\"\n",
    "\n",
    "training_args = TrainingArguments(output_dir = model_name,\n",
    "                                  num_train_epochs=2, learning_rate = 2e-5,\n",
    "                                  per_device_train_batch_size= batch_size,,\n",
    "                                  per_device_eval_batch_size = batch_size,\n",
    "                                  weight_decay=0.01,\n",
    "                                  evaluation_strategy = \"epoch\",\n",
    "                                  disable_tqdm=False)"
   ]
  },
  {
   "cell_type": "code",
   "execution_count": null,
   "id": "b05b9e0a",
   "metadata": {},
   "outputs": [],
   "source": [
    "from sklearn.metrics import accuracy_score, f1_score\n",
    "\n",
    "def compute_metrics(pred):\n",
    "    labels = pred.label_ids\n",
    "    preds = pred.predictions.argmax(-1)\n",
    "    f1 = f1_score(labels, preds, average='weighted')\n",
    "    acc = accuracy_score(labels, preds)\n",
    "    return {\"accuracy\": acc, \"f1\": f1}"
   ]
  },
  {
   "cell_type": "code",
   "execution_count": null,
   "id": "a1b0846c",
   "metadata": {},
   "outputs": [],
   "source": [
    "from transformers import Trainer\n",
    "\n",
    "trainer = Trainer(model=model, args = training_args,\n",
    "                  compute_metrics = compute_metrics,\n",
    "                  train_dataset = emotions_encoded['train'],\n",
    "                  eval_dataset = emotions_encoded['validation'],\n",
    "                  tokenizer = tokenizer)"
   ]
  },
  {
   "cell_type": "code",
   "execution_count": null,
   "id": "f3e4704e",
   "metadata": {},
   "outputs": [],
   "source": [
    "trainer.train()"
   ]
  },
  {
   "cell_type": "code",
   "execution_count": null,
   "id": "cb2bc92d",
   "metadata": {},
   "outputs": [],
   "source": [
    "preds_outputs = trainer.predict(emotions_encoded['test'])\n",
    "preds_outputs.metrics"
   ]
  },
  {
   "cell_type": "code",
   "execution_count": null,
   "id": "12e4b9c2",
   "metadata": {},
   "outputs": [],
   "source": [
    "import numpy as np\n",
    "y_preds = np.argmax(preds_outputs.predictions, axis = 1)\n",
    "y_true = emotions_encoded[\"test\"][:][\"label\"]"
   ]
  },
  {
   "cell_type": "code",
   "execution_count": null,
   "id": "5d29d5d1",
   "metadata": {},
   "outputs": [],
   "source": [
    "from sklearn.metrics import classification_report\n",
    "print(classes)\n",
    "print(classification_report(y_true, y_preds))"
   ]
  },
  {
   "cell_type": "code",
   "execution_count": null,
   "id": "faad11a2",
   "metadata": {},
   "outputs": [],
   "source": [
    "label_counts"
   ]
  },
  {
   "cell_type": "code",
   "execution_count": null,
   "id": "fb075c62",
   "metadata": {},
   "outputs": [],
   "source": [
    "text = 'I love Machine Learning !. Tokenization is awesome'\n",
    "input_encoded = tokenizer(text, return_tensors='pt').to(device)\n",
    "\n",
    "with torch.no_grad():\n",
    "    outputs = model( ** input_encoded)\n",
    "\n",
    "logits = outputs.logits\n",
    "pred = torch.argmax(logits, dim=1).item()\n",
    "pred, classes[pred]"
   ]
  }
 ],
 "metadata": {
  "kernelspec": {
   "display_name": "Python 3 (ipykernel)",
   "language": "python",
   "name": "python3"
  },
  "language_info": {
   "codemirror_mode": {
    "name": "ipython",
    "version": 3
   },
   "file_extension": ".py",
   "mimetype": "text/x-python",
   "name": "python",
   "nbconvert_exporter": "python",
   "pygments_lexer": "ipython3",
   "version": "3.11.3"
  }
 },
 "nbformat": 4,
 "nbformat_minor": 5
}
