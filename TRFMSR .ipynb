{
 "cells": [
  {
   "cell_type": "code",
   "execution_count": 2,
   "id": "7dd4fdac",
   "metadata": {},
   "outputs": [],
   "source": [
    "import requests\n",
    "from bs4 import BeautifulSoup\n",
    "\n",
    "url = 'https://www.reddit.com/r/languagelearning/comments/1bt092x/unbiased_opinionreview_of_duolingo_and_its/'\n",
    "response = requests.get(url)\n",
    "soup = BeautifulSoup(response.text, 'html.parser')"
   ]
  },
  {
   "cell_type": "code",
   "execution_count": 3,
   "id": "69825216",
   "metadata": {},
   "outputs": [],
   "source": [
    "# Example: Extract specific elements like reviews\n",
    "reviews = soup.find_all('div', class_='review')\n",
    "\n",
    "for review in reviews:\n",
    "    print(review.text)"
   ]
  },
  {
   "cell_type": "code",
   "execution_count": 5,
   "id": "b25bac24",
   "metadata": {},
   "outputs": [
    {
     "name": "stdout",
     "output_type": "stream",
     "text": [
      "Collecting textblob\n",
      "  Downloading textblob-0.18.0.post0-py3-none-any.whl (626 kB)\n",
      "                                              0.0/626.3 kB ? eta -:--:--\n",
      "     -                                     20.5/626.3 kB 682.7 kB/s eta 0:00:01\n",
      "     --                                    41.0/626.3 kB 495.5 kB/s eta 0:00:02\n",
      "     ------                               112.6/626.3 kB 939.4 kB/s eta 0:00:01\n",
      "     -----------                            194.6/626.3 kB 1.3 MB/s eta 0:00:01\n",
      "     ------------------                     307.2/626.3 kB 1.6 MB/s eta 0:00:01\n",
      "     ---------------------------            450.6/626.3 kB 2.0 MB/s eta 0:00:01\n",
      "     ------------------------------------   604.2/626.3 kB 2.2 MB/s eta 0:00:01\n",
      "     -------------------------------------- 626.3/626.3 kB 2.2 MB/s eta 0:00:00\n",
      "Collecting nltk>=3.8 (from textblob)\n",
      "  Downloading nltk-3.9.1-py3-none-any.whl (1.5 MB)\n",
      "                                              0.0/1.5 MB ? eta -:--:--\n",
      "     ----                                     0.2/1.5 MB 3.5 MB/s eta 0:00:01\n",
      "     ----------                               0.4/1.5 MB 4.9 MB/s eta 0:00:01\n",
      "     ---------------                          0.6/1.5 MB 4.6 MB/s eta 0:00:01\n",
      "     --------------------                     0.8/1.5 MB 4.1 MB/s eta 0:00:01\n",
      "     -------------------------                1.0/1.5 MB 4.3 MB/s eta 0:00:01\n",
      "     ------------------------------           1.1/1.5 MB 4.0 MB/s eta 0:00:01\n",
      "     -------------------------------          1.2/1.5 MB 4.1 MB/s eta 0:00:01\n",
      "     -------------------------------          1.2/1.5 MB 4.1 MB/s eta 0:00:01\n",
      "     ---------------------------------------  1.5/1.5 MB 3.7 MB/s eta 0:00:01\n",
      "     ---------------------------------------- 1.5/1.5 MB 3.4 MB/s eta 0:00:00\n",
      "Requirement already satisfied: click in c:\\users\\huawei\\anaconda3\\lib\\site-packages (from nltk>=3.8->textblob) (8.0.4)\n",
      "Requirement already satisfied: joblib in c:\\users\\huawei\\anaconda3\\lib\\site-packages (from nltk>=3.8->textblob) (1.2.0)\n",
      "Requirement already satisfied: regex>=2021.8.3 in c:\\users\\huawei\\anaconda3\\lib\\site-packages (from nltk>=3.8->textblob) (2022.7.9)\n",
      "Requirement already satisfied: tqdm in c:\\users\\huawei\\anaconda3\\lib\\site-packages (from nltk>=3.8->textblob) (4.66.5)\n",
      "Requirement already satisfied: colorama in c:\\users\\huawei\\anaconda3\\lib\\site-packages (from click->nltk>=3.8->textblob) (0.4.6)\n",
      "Installing collected packages: nltk, textblob\n",
      "  Attempting uninstall: nltk\n",
      "    Found existing installation: nltk 3.7\n",
      "    Uninstalling nltk-3.7:\n",
      "      Successfully uninstalled nltk-3.7\n",
      "Successfully installed nltk-3.9.1 textblob-0.18.0.post0\n",
      "Sentiment(polarity=0.3181818181818182, subjectivity=0.4772727272727273)\n"
     ]
    }
   ],
   "source": [
    "!pip install textblob"
   ]
  },
  {
   "cell_type": "code",
   "execution_count": 8,
   "id": "1c861291",
   "metadata": {},
   "outputs": [
    {
     "name": "stdout",
     "output_type": "stream",
     "text": [
      "Sentiment(polarity=0.4590909090909091, subjectivity=0.7136363636363636)\n"
     ]
    }
   ],
   "source": [
    "from textblob import TextBlob\n",
    "\n",
    "feedback = \"I feel more happy and fantastic to my culture while learning new languages.\"\n",
    "blob = TextBlob(feedback)\n",
    "print(blob.sentiment)  # Outputs polarity and subjectivity\n"
   ]
  },
  {
   "cell_type": "code",
   "execution_count": null,
   "id": "dea3b239",
   "metadata": {},
   "outputs": [],
   "source": []
  }
 ],
 "metadata": {
  "kernelspec": {
   "display_name": "Python 3 (ipykernel)",
   "language": "python",
   "name": "python3"
  },
  "language_info": {
   "codemirror_mode": {
    "name": "ipython",
    "version": 3
   },
   "file_extension": ".py",
   "mimetype": "text/x-python",
   "name": "python",
   "nbconvert_exporter": "python",
   "pygments_lexer": "ipython3",
   "version": "3.11.3"
  }
 },
 "nbformat": 4,
 "nbformat_minor": 5
}
