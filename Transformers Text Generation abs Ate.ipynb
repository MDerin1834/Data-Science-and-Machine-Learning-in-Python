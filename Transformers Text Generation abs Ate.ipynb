{
 "cells": [
  {
   "cell_type": "code",
   "execution_count": null,
   "id": "837f88b6",
   "metadata": {},
   "outputs": [],
   "source": [
    "!pip install tranformers\n"
   ]
  },
  {
   "cell_type": "code",
   "execution_count": null,
   "id": "7c98ad35",
   "metadata": {},
   "outputs": [],
   "source": [
    "import torch\n",
    "from transformers import AutoTokenizer, AutoModelForCausalLM"
   ]
  },
  {
   "cell_type": "code",
   "execution_count": null,
   "id": "52b53c25",
   "metadata": {},
   "outputs": [],
   "source": [
    "device = \"cuda\" if torch.cuda.is_available() else \"cpu\"\n",
    "device"
   ]
  },
  {
   "cell_type": "code",
   "execution_count": null,
   "id": "605b9121",
   "metadata": {},
   "outputs": [],
   "source": [
    "model_name = \"gpt2-large\"\n",
    "tokenizer = AutoTokenizer.from_pretrained(model_name)\n",
    "     "
   ]
  },
  {
   "cell_type": "code",
   "execution_count": null,
   "id": "a4a8c7cf",
   "metadata": {},
   "outputs": [],
   "source": [
    "model = AutoModelForCausalLM.from_pretrained(model_name).to(device)\n"
   ]
  },
  {
   "cell_type": "code",
   "execution_count": null,
   "id": "526d91e6",
   "metadata": {},
   "outputs": [],
   "source": [
    "input_text = \"i am really impressed\"\n",
    "max_length = 128\n",
    "\n",
    "input_ids = tokenizer(input_text, return_tensors=\"pt\")"
   ]
  },
  {
   "cell_type": "code",
   "execution_count": null,
   "id": "ebc3c0b8",
   "metadata": {},
   "outputs": [],
   "source": [
    "input_ids"
   ]
  },
  {
   "cell_type": "code",
   "execution_count": null,
   "id": "6117aafd",
   "metadata": {},
   "outputs": [],
   "source": [
    "input_ids = input_ids['input_ids'].to(device)"
   ]
  },
  {
   "cell_type": "code",
   "execution_count": null,
   "id": "67f8f1ac",
   "metadata": {},
   "outputs": [],
   "source": [
    "output = model.generate(input_ids, max_length=max_length, num_beams=5, \n",
    "                        do_sample=False)"
   ]
  },
  {
   "cell_type": "code",
   "execution_count": null,
   "id": "a3c9a143",
   "metadata": {},
   "outputs": [],
   "source": [
    "output"
   ]
  },
  {
   "cell_type": "code",
   "execution_count": null,
   "id": "3103b36a",
   "metadata": {},
   "outputs": [],
   "source": [
    "print(tokenizer.decode(output[0]))"
   ]
  },
  {
   "cell_type": "code",
   "execution_count": null,
   "id": "15d2796d",
   "metadata": {},
   "outputs": [],
   "source": [
    "\n",
    "output = model.generate(input_ids, max_length=max_length, num_beams=5,\n",
    "                        do_sample=False, no_repeat_ngram_size=2)\n",
    "tokenizer.decode(output[0])"
   ]
  },
  {
   "cell_type": "markdown",
   "id": "359849ed",
   "metadata": {},
   "source": [
    "# Nucleus Search"
   ]
  },
  {
   "cell_type": "code",
   "execution_count": null,
   "id": "593cf946",
   "metadata": {},
   "outputs": [],
   "source": [
    "input_text = '''welcome to KGP Talkie Tutorials,\n",
    "              We will talk about machine learning'''\n",
    "max_length = 128\n",
    "\n",
    "input_ids = tokenizer(input_text, return_tensors=\"pt\")\n",
    "input_ids = input_ids['input_ids'].to(device)\n",
    "\n",
    "output = model.generate(input_ids, max_length=max_length,\n",
    "                        do_sample=True, top_p=1)\n",
    "tokenizer.decode(output[0])"
   ]
  },
  {
   "cell_type": "code",
   "execution_count": null,
   "id": "a61c7b80",
   "metadata": {},
   "outputs": [],
   "source": []
  },
  {
   "cell_type": "code",
   "execution_count": null,
   "id": "2e43f5e2",
   "metadata": {},
   "outputs": [],
   "source": []
  },
  {
   "cell_type": "code",
   "execution_count": null,
   "id": "ebb8f25f",
   "metadata": {},
   "outputs": [],
   "source": []
  },
  {
   "cell_type": "code",
   "execution_count": null,
   "id": "3d948aa1",
   "metadata": {},
   "outputs": [],
   "source": []
  }
 ],
 "metadata": {
  "kernelspec": {
   "display_name": "Python 3 (ipykernel)",
   "language": "python",
   "name": "python3"
  },
  "language_info": {
   "codemirror_mode": {
    "name": "ipython",
    "version": 3
   },
   "file_extension": ".py",
   "mimetype": "text/x-python",
   "name": "python",
   "nbconvert_exporter": "python",
   "pygments_lexer": "ipython3",
   "version": "3.11.3"
  }
 },
 "nbformat": 4,
 "nbformat_minor": 5
}
