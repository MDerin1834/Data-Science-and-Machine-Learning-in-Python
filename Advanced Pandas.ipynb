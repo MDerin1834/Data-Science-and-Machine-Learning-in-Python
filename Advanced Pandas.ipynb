{
 "cells": [
  {
   "cell_type": "code",
   "execution_count": 58,
   "id": "7fe94b51",
   "metadata": {},
   "outputs": [
    {
     "name": "stdout",
     "output_type": "stream",
     "text": [
      "   Country   Age   Salary Purchased\n",
      "0   France  44.0  72000.0        No\n",
      "1    Spain  27.0  48000.0       Yes\n",
      "2  Germany  30.0  54000.0        No\n",
      "3    Spain  38.0  61000.0        No\n",
      "5   France  35.0  58000.0       Yes\n",
      "7   France  48.0  79000.0       Yes\n",
      "8  Germany  50.0  83000.0        No\n",
      "9   France  37.0  67000.0       Yes\n"
     ]
    }
   ],
   "source": [
    "import pandas as pd\n",
    "import warnings\n",
    "warnings.filterwarnings(\"ignore\")\n",
    "\n",
    "# Read the CSV file into a DataFrame\n",
    "data = pd.read_csv(\"Data.csv\")\n",
    "\n",
    "# Remove rows with missing values (in any column)\n",
    "data.dropna(inplace=True)\n",
    "print(data)"
   ]
  },
  {
   "cell_type": "code",
   "execution_count": 11,
   "id": "44c8ff3b",
   "metadata": {},
   "outputs": [
    {
     "name": "stdout",
     "output_type": "stream",
     "text": [
      "   Country   Age   Salary Purchased\n",
      "0   FRANCE  44.0  72000.0        No\n",
      "1    SPAIN  27.0  48000.0       Yes\n",
      "2  GERMANY  30.0  54000.0        No\n",
      "3    SPAIN  38.0  61000.0        No\n",
      "5   FRANCE  35.0  58000.0       Yes\n",
      "7   FRANCE  48.0  79000.0       Yes\n",
      "8  GERMANY  50.0  83000.0        No\n",
      "9   FRANCE  37.0  67000.0       Yes\n"
     ]
    }
   ],
   "source": [
    "# Convert the 'Country' column values to uppercase\n",
    "data[\"Country\"] = data[\"Country\"].str.upper()\n",
    "print(data)"
   ]
  },
  {
   "cell_type": "code",
   "execution_count": 12,
   "id": "f53b80c9",
   "metadata": {},
   "outputs": [
    {
     "name": "stdout",
     "output_type": "stream",
     "text": [
      "   Country   Age   Salary Purchased  index\n",
      "0   FRANCE  44.0  72000.0        No      2\n",
      "1    SPAIN  27.0  48000.0       Yes      2\n",
      "2  GERMANY  30.0  54000.0        No      4\n",
      "3    SPAIN  38.0  61000.0        No      2\n",
      "5   FRANCE  35.0  58000.0       Yes      2\n",
      "7   FRANCE  48.0  79000.0       Yes      2\n",
      "8  GERMANY  50.0  83000.0        No      4\n",
      "9   FRANCE  37.0  67000.0       Yes      2\n"
     ]
    }
   ],
   "source": [
    "# Create a new column 'index' that finds the first \n",
    "# occurrence of \"A\" in each country name\n",
    "data[\"index\"] = data[\"Country\"].str.find(\"A\")\n",
    "print(data)"
   ]
  },
  {
   "cell_type": "code",
   "execution_count": 13,
   "id": "233da2b8",
   "metadata": {},
   "outputs": [
    {
     "name": "stdout",
     "output_type": "stream",
     "text": [
      "  Country   Age   Salary Purchased  index\n",
      "0  FRANCE  44.0  72000.0        No      2\n",
      "5  FRANCE  35.0  58000.0       Yes      2\n",
      "7  FRANCE  48.0  79000.0       Yes      2\n",
      "9  FRANCE  37.0  67000.0       Yes      2\n"
     ]
    }
   ],
   "source": [
    "# Create a new DataFrame (data2) containing only rows where 'Country' \n",
    "# column contains \"FRANCE\"\n",
    "data2 = data[data.Country.str.contains(\"FRANCE\")]\n",
    "print(data2)"
   ]
  },
  {
   "cell_type": "code",
   "execution_count": 14,
   "id": "1595a1af",
   "metadata": {},
   "outputs": [
    {
     "name": "stdout",
     "output_type": "stream",
     "text": [
      "0     FRaNCE\n",
      "1      SPaIN\n",
      "2    GERMaNY\n",
      "3      SPaIN\n",
      "5     FRaNCE\n",
      "7     FRaNCE\n",
      "8    GERMaNY\n",
      "9     FRaNCE\n",
      "Name: Country, dtype: object\n"
     ]
    }
   ],
   "source": [
    "# Replace all occurrences of \"A\" with \"a\" in the 'Country' column \n",
    "# and store the result in data3\n",
    "data3 = data.Country.str.replace(\"A\", \"a\")\n",
    "print(data3)"
   ]
  },
  {
   "cell_type": "code",
   "execution_count": 15,
   "id": "a8dc65f8",
   "metadata": {},
   "outputs": [
    {
     "name": "stdout",
     "output_type": "stream",
     "text": [
      "   Country   Age   Salary Purchased  index Before 'A' After 'A'\n",
      "0   FRANCE  44.0  72000.0        No      2         FR       NCE\n",
      "1    SPAIN  27.0  48000.0       Yes      2         SP        IN\n",
      "2  GERMANY  30.0  54000.0        No      4       GERM        NY\n",
      "3    SPAIN  38.0  61000.0        No      2         SP        IN\n",
      "5   FRANCE  35.0  58000.0       Yes      2         FR       NCE\n",
      "7   FRANCE  48.0  79000.0       Yes      2         FR       NCE\n",
      "8  GERMANY  50.0  83000.0        No      4       GERM        NY\n",
      "9   FRANCE  37.0  67000.0       Yes      2         FR       NCE\n"
     ]
    }
   ],
   "source": [
    "# Attempt to split 'Country' values at each \"a\" (lowercase) \n",
    "data[[\"Before 'A'\", \"After 'A'\"]] = data[\"Country\"].str.split(\"A\", expand=True)\n",
    "print(data)"
   ]
  },
  {
   "cell_type": "code",
   "execution_count": 16,
   "id": "d60f6bf9",
   "metadata": {},
   "outputs": [
    {
     "name": "stdout",
     "output_type": "stream",
     "text": [
      "   CostumID Firstname  Lastname\n",
      "0         1      john  vivienne\n",
      "1         2      jake   miranda\n",
      "2         3    johnny     james\n",
      "3         4     jerry   miranda\n",
      "   OrderID  CostumID  OrderDate\n",
      "0       10         1       2012\n",
      "1       11         2       2013\n",
      "2       12         5       2019\n",
      "3       13         7       2023\n"
     ]
    }
   ],
   "source": [
    "# Creating dictionaries to represent customer and order data\n",
    "costumers = {\n",
    "    \"CostumID\": [1, 2, 3, 4], \n",
    "    \"Firstname\": [\"john\", \"jake\", \"johnny\", \"jerry\"],\n",
    "    \"Lastname\": [\"vivienne\", \"miranda\", \"james\", \"miranda\"]\n",
    "}\n",
    "costumersB = {\n",
    "    \"CostumID\": [4, 5, 6, 8],  # Keeping 'CostumID' consistent\n",
    "    \"Firstname\": [\"michael\", \"nelly\", \"venji\", \"mateo\"],\n",
    "    \"Lastname\": [\"vivienne\", \"kelly\", \"gomez\", \"gomez\"]\n",
    "}\n",
    "orders = {\n",
    "    \"OrderID\": [10, 11, 12, 13],\n",
    "    \"CostumID\": [1, 2, 5, 7],  # 'CostumID' for the relation to 'costumers'\n",
    "    \"OrderDate\": [2012, 2013, 2019, 2023]\n",
    "}\n",
    "# Creating DataFrames for customers and orders\n",
    "df_coustums = pd.DataFrame(costumers, columns=[\"CostumID\", \n",
    "                                               \"Firstname\", \"Lastname\"])\n",
    "df_orders = pd.DataFrame(orders, columns=[\"OrderID\", \"CostumID\", \"OrderDate\"])\n",
    "\n",
    "print(df_coustums)  # Printing customer data\n",
    "print(df_orders)    # Printing order data"
   ]
  },
  {
   "cell_type": "code",
   "execution_count": 17,
   "id": "1c13c001",
   "metadata": {},
   "outputs": [
    {
     "name": "stdout",
     "output_type": "stream",
     "text": [
      "   CostumID Firstname  Lastname  OrderID  OrderDate\n",
      "0         1      john  vivienne       10       2012\n",
      "1         2      jake   miranda       11       2013\n"
     ]
    }
   ],
   "source": [
    "# MERGE operations (joining dataframes side by side)\n",
    "\n",
    "# Inner merge (only rows with matching 'CostumID' in both DataFrames)\n",
    "merged = pd.merge(df_coustums, df_orders, how=\"inner\", on=\"CostumID\")\n",
    "print(merged)"
   ]
  },
  {
   "cell_type": "code",
   "execution_count": 18,
   "id": "6d1dd5c6",
   "metadata": {},
   "outputs": [
    {
     "name": "stdout",
     "output_type": "stream",
     "text": [
      "   CostumID Firstname  Lastname  OrderID  OrderDate\n",
      "0         1      john  vivienne     10.0     2012.0\n",
      "1         2      jake   miranda     11.0     2013.0\n",
      "2         3    johnny     james      NaN        NaN\n",
      "3         4     jerry   miranda      NaN        NaN\n"
     ]
    }
   ],
   "source": [
    "# Left merge (all rows from 'df_coustums', matching rows from 'df_orders')\n",
    "merged2 = pd.merge(df_coustums, df_orders, how=\"left\", on=\"CostumID\")\n",
    "print(merged2)"
   ]
  },
  {
   "cell_type": "code",
   "execution_count": 19,
   "id": "569708f8",
   "metadata": {},
   "outputs": [
    {
     "name": "stdout",
     "output_type": "stream",
     "text": [
      "   CostumID Firstname  Lastname  OrderID  OrderDate\n",
      "0         1      john  vivienne       10       2012\n",
      "1         2      jake   miranda       11       2013\n",
      "2         5       NaN       NaN       12       2019\n",
      "3         7       NaN       NaN       13       2023\n"
     ]
    }
   ],
   "source": [
    "# Right merge (all rows from 'df_orders', matching rows from 'df_coustums')\n",
    "merged3 = pd.merge(df_coustums, df_orders, how=\"right\", on=\"CostumID\")\n",
    "print(merged3)"
   ]
  },
  {
   "cell_type": "code",
   "execution_count": 20,
   "id": "ef15359a",
   "metadata": {},
   "outputs": [
    {
     "name": "stdout",
     "output_type": "stream",
     "text": [
      "   CostumID Firstname  Lastname  OrderID  OrderDate\n",
      "0         1      john  vivienne     10.0     2012.0\n",
      "1         2      jake   miranda     11.0     2013.0\n",
      "2         3    johnny     james      NaN        NaN\n",
      "3         4     jerry   miranda      NaN        NaN\n",
      "4         5       NaN       NaN     12.0     2019.0\n",
      "5         7       NaN       NaN     13.0     2023.0\n"
     ]
    }
   ],
   "source": [
    "# Outer merge (all rows from both, matches where possible)\n",
    "merged4 = pd.merge(df_coustums, df_orders, how=\"outer\", on=\"CostumID\")\n",
    "print(merged4)"
   ]
  },
  {
   "cell_type": "code",
   "execution_count": 21,
   "id": "9cdbd80e",
   "metadata": {},
   "outputs": [
    {
     "name": "stdout",
     "output_type": "stream",
     "text": [
      "   CostumID Firstname  Lastname\n",
      "0         1      john  vivienne\n",
      "1         2      jake   miranda\n",
      "2         3    johnny     james\n",
      "3         4     jerry   miranda\n",
      "0         4   michael  vivienne\n",
      "1         5     nelly     kelly\n",
      "2         6     venji     gomez\n",
      "3         8     mateo     gomez\n"
     ]
    }
   ],
   "source": [
    "# CONCAT operations (stacking dataframes)\n",
    "\n",
    "# Concatenating the customers data (costumers and costumersB) vertically\n",
    "df_coustums = pd.DataFrame(costumers, columns=[\"CostumID\", \"Firstname\", \n",
    "                                               \"Lastname\"])\n",
    "df_coustB = pd.DataFrame(costumersB, columns=[\"CostumID\", \"Firstname\", \n",
    "                                              \"Lastname\"])\n",
    "\n",
    "# Vertical concatenation (stacking rows)\n",
    "merged_vertical = pd.concat([df_coustums, df_coustB])\n",
    "print(merged_vertical)"
   ]
  },
  {
   "cell_type": "code",
   "execution_count": 22,
   "id": "61d10f30",
   "metadata": {},
   "outputs": [
    {
     "name": "stdout",
     "output_type": "stream",
     "text": [
      "   CostumID Firstname  Lastname  CostumID Firstname  Lastname\n",
      "0         1      john  vivienne         4   michael  vivienne\n",
      "1         2      jake   miranda         5     nelly     kelly\n",
      "2         3    johnny     james         6     venji     gomez\n",
      "3         4     jerry   miranda         8     mateo     gomez\n"
     ]
    }
   ],
   "source": [
    "# Horizontal concatenation (side by side merging)\n",
    "merged_horizontal = pd.concat([df_coustums, df_coustB], axis=1)\n",
    "print(merged_horizontal)"
   ]
  },
  {
   "cell_type": "code",
   "execution_count": 23,
   "id": "c72bed17",
   "metadata": {},
   "outputs": [
    {
     "name": "stdout",
     "output_type": "stream",
     "text": [
      "   Col1  Col2  Col3\n",
      "0     2     1     1\n",
      "1     2    23    22\n",
      "2     2    32   222\n",
      "3     4    24    14\n",
      "4     5    25    55\n",
      "5     7    27     7\n",
      "6     5    25     5\n",
      "7     8    28    88\n",
      "8     8    28     8\n"
     ]
    }
   ],
   "source": [
    "import pandas as pd\n",
    "\n",
    "# Creating a dictionary to represent the data\n",
    "data = {\n",
    "    \"Col1\": [2, 2, 2, 4, 5, 7, 5, 8, 8],\n",
    "    \"Col2\": [1, 23, 32, 24, 25, 27, 25, 28, 28],\n",
    "    \"Col3\": [1, 22, 222, 14, 55, 7, 5, 88, 8]\n",
    "}\n",
    "\n",
    "# Converting the dictionary into a DataFrame\n",
    "df = pd.DataFrame(data)\n",
    "print(df)"
   ]
  },
  {
   "cell_type": "code",
   "execution_count": 24,
   "id": "48a6e120",
   "metadata": {},
   "outputs": [
    {
     "name": "stdout",
     "output_type": "stream",
     "text": [
      "[ 1 23 32 24 25 27 28]\n"
     ]
    }
   ],
   "source": [
    "# Finding unique values in \"Col2\"\n",
    "unique = df[\"Col2\"].unique()\n",
    "print(unique)"
   ]
  },
  {
   "cell_type": "code",
   "execution_count": 25,
   "id": "7f8277c3",
   "metadata": {},
   "outputs": [
    {
     "name": "stdout",
     "output_type": "stream",
     "text": [
      "5\n"
     ]
    }
   ],
   "source": [
    "# Finding the number of unique values in \"Col1\"\n",
    "nunique = df[\"Col1\"].nunique()\n",
    "print(nunique)"
   ]
  },
  {
   "cell_type": "code",
   "execution_count": 26,
   "id": "1660b287",
   "metadata": {},
   "outputs": [
    {
     "name": "stdout",
     "output_type": "stream",
     "text": [
      "2    3\n",
      "5    2\n",
      "8    2\n",
      "4    1\n",
      "7    1\n",
      "Name: Col1, dtype: int64\n"
     ]
    }
   ],
   "source": [
    "# Counting the occurrences of each unique value in \"Col1\"\n",
    "counts = df[\"Col1\"].value_counts()\n",
    "print(counts)"
   ]
  },
  {
   "cell_type": "code",
   "execution_count": 27,
   "id": "aa8cc06f",
   "metadata": {},
   "outputs": [],
   "source": [
    "# Defining a function that returns the square of a number\n",
    "def square(x):\n",
    "    return x * x\n",
    "\n",
    "# Defining a lambda function to calculate the square root of a number\n",
    "divided = lambda x: x ** (1/2)"
   ]
  },
  {
   "cell_type": "code",
   "execution_count": 28,
   "id": "79d87100",
   "metadata": {},
   "outputs": [
    {
     "name": "stdout",
     "output_type": "stream",
     "text": [
      "   Col1  Col2  Col3\n",
      "0     2     1     1\n",
      "1     2   529    22\n",
      "2     2  1024   222\n",
      "3     4   576    14\n",
      "4     5   625    55\n",
      "5     7   729     7\n",
      "6     5   625     5\n",
      "7     8   784    88\n",
      "8     8   784     8\n"
     ]
    }
   ],
   "source": [
    "# Applying the \"kareal\" function to \"Col2\" (each element is squared)\n",
    "df[\"Col2\"] = df[\"Col2\"].apply(square)\n",
    "print(df)"
   ]
  },
  {
   "cell_type": "code",
   "execution_count": 29,
   "id": "3f87d5c6",
   "metadata": {},
   "outputs": [
    {
     "name": "stdout",
     "output_type": "stream",
     "text": [
      "   Col1  Col2       Col3\n",
      "0     2     1   1.000000\n",
      "1     2   529   4.690416\n",
      "2     2  1024  14.899664\n",
      "3     4   576   3.741657\n",
      "4     5   625   7.416198\n",
      "5     7   729   2.645751\n",
      "6     5   625   2.236068\n",
      "7     8   784   9.380832\n",
      "8     8   784   2.828427\n"
     ]
    }
   ],
   "source": [
    "# Applying the \"bölüm\" lambda function to \"Col3\" (square root of each element)\n",
    "df[\"Col3\"] = df[\"Col3\"].apply(divided)\n",
    "print(df)"
   ]
  },
  {
   "cell_type": "code",
   "execution_count": 30,
   "id": "ca263307",
   "metadata": {},
   "outputs": [
    {
     "name": "stdout",
     "output_type": "stream",
     "text": [
      "   Col1  Col2       Col3  Col4\n",
      "0     2     1   1.000000     4\n",
      "1     2   529   4.690416     4\n",
      "2     2  1024  14.899664     4\n",
      "3     4   576   3.741657    16\n",
      "4     5   625   7.416198    25\n",
      "5     7   729   2.645751    49\n",
      "6     5   625   2.236068    25\n",
      "7     8   784   9.380832    64\n",
      "8     8   784   2.828427    64\n"
     ]
    }
   ],
   "source": [
    "# Creating a new column \"Col4\" which is the square of each value in \"Col1\"\n",
    "df[\"Col4\"] = df[\"Col1\"].apply(square)\n",
    "print(df)"
   ]
  },
  {
   "cell_type": "code",
   "execution_count": 31,
   "id": "340ece6b",
   "metadata": {},
   "outputs": [
    {
     "name": "stdout",
     "output_type": "stream",
     "text": [
      "<class 'pandas.core.frame.DataFrame'>\n",
      "RangeIndex: 9 entries, 0 to 8\n",
      "Data columns (total 4 columns):\n",
      " #   Column  Non-Null Count  Dtype  \n",
      "---  ------  --------------  -----  \n",
      " 0   Col1    9 non-null      int64  \n",
      " 1   Col2    9 non-null      int64  \n",
      " 2   Col3    9 non-null      float64\n",
      " 3   Col4    9 non-null      int64  \n",
      "dtypes: float64(1), int64(3)\n",
      "memory usage: 420.0 bytes\n",
      "None\n"
     ]
    }
   ],
   "source": [
    "# Printing information about the DataFrame (data types, memory usage, etc.)\n",
    "print(df.info())"
   ]
  },
  {
   "cell_type": "code",
   "execution_count": 32,
   "id": "591774eb",
   "metadata": {},
   "outputs": [
    {
     "name": "stdout",
     "output_type": "stream",
     "text": [
      "   Col1  Col2       Col3  Col4\n",
      "0     2     1   1.000000     4\n",
      "6     5   625   2.236068    25\n",
      "5     7   729   2.645751    49\n",
      "8     8   784   2.828427    64\n",
      "3     4   576   3.741657    16\n",
      "1     2   529   4.690416     4\n",
      "4     5   625   7.416198    25\n",
      "7     8   784   9.380832    64\n",
      "2     2  1024  14.899664     4\n"
     ]
    }
   ],
   "source": [
    "# Sorting the DataFrame by \"Col3\" in ascending order and printing the result\n",
    "print(df.sort_values(\"Col3\"))"
   ]
  },
  {
   "cell_type": "code",
   "execution_count": 33,
   "id": "c55ee76d",
   "metadata": {},
   "outputs": [
    {
     "name": "stdout",
     "output_type": "stream",
     "text": [
      "   Col1  Col2       Col3  Col4\n",
      "2     2  1024  14.899664     4\n",
      "7     8   784   9.380832    64\n",
      "4     5   625   7.416198    25\n",
      "1     2   529   4.690416     4\n",
      "3     4   576   3.741657    16\n",
      "8     8   784   2.828427    64\n",
      "5     7   729   2.645751    49\n",
      "6     5   625   2.236068    25\n",
      "0     2     1   1.000000     4\n"
     ]
    }
   ],
   "source": [
    "# Sorting the DataFrame by \"Col3\" in descending order and printing the result\n",
    "print(df.sort_values(\"Col3\", ascending=False))"
   ]
  },
  {
   "cell_type": "code",
   "execution_count": 34,
   "id": "c38d8ffc",
   "metadata": {},
   "outputs": [
    {
     "name": "stdout",
     "output_type": "stream",
     "text": [
      "Col3  1.000000   2.236068   2.645751   2.828427   3.741657   4.690416   \\\n",
      "Col1                                                                     \n",
      "2           1.0        NaN        NaN        NaN        NaN      529.0   \n",
      "4           NaN        NaN        NaN        NaN      576.0        NaN   \n",
      "5           NaN      625.0        NaN        NaN        NaN        NaN   \n",
      "7           NaN        NaN      729.0        NaN        NaN        NaN   \n",
      "8           NaN        NaN        NaN      784.0        NaN        NaN   \n",
      "\n",
      "Col3  7.416198   9.380832   14.899664  \n",
      "Col1                                   \n",
      "2           NaN        NaN     1024.0  \n",
      "4           NaN        NaN        NaN  \n",
      "5         625.0        NaN        NaN  \n",
      "7           NaN        NaN        NaN  \n",
      "8           NaN      784.0        NaN  \n"
     ]
    }
   ],
   "source": [
    "\"\"\" \n",
    "Creating a pivot table using \"Col1\" as the index, \n",
    "\"Col3\" as columns, and \"Col2\" as values\n",
    "This creates a table where \"Col1\" values are the row labels,\n",
    "\"Col3\" values are the column labels\n",
    "\"\"\"\n",
    "print(df.pivot_table(index=\"Col1\", columns=\"Col3\", values=\"Col2\"))"
   ]
  },
  {
   "cell_type": "code",
   "execution_count": 65,
   "id": "2b48ebad",
   "metadata": {},
   "outputs": [
    {
     "data": {
      "text/html": [
       "<div>\n",
       "<style scoped>\n",
       "    .dataframe tbody tr th:only-of-type {\n",
       "        vertical-align: middle;\n",
       "    }\n",
       "\n",
       "    .dataframe tbody tr th {\n",
       "        vertical-align: top;\n",
       "    }\n",
       "\n",
       "    .dataframe thead th {\n",
       "        text-align: right;\n",
       "    }\n",
       "</style>\n",
       "<table border=\"1\" class=\"dataframe\">\n",
       "  <thead>\n",
       "    <tr style=\"text-align: right;\">\n",
       "      <th></th>\n",
       "      <th>Company</th>\n",
       "      <th>Company Score</th>\n",
       "      <th>Job Title</th>\n",
       "      <th>Location</th>\n",
       "      <th>Date</th>\n",
       "      <th>Salary</th>\n",
       "    </tr>\n",
       "  </thead>\n",
       "  <tbody>\n",
       "    <tr>\n",
       "      <th>0</th>\n",
       "      <td>ViewSoft</td>\n",
       "      <td>4.8</td>\n",
       "      <td>Software Engineer</td>\n",
       "      <td>Manassas, VA</td>\n",
       "      <td>8d</td>\n",
       "      <td>$68K - $94K (Glassdoor est.)</td>\n",
       "    </tr>\n",
       "    <tr>\n",
       "      <th>1</th>\n",
       "      <td>Workiva</td>\n",
       "      <td>4.3</td>\n",
       "      <td>Software Support Engineer</td>\n",
       "      <td>Remote</td>\n",
       "      <td>2d</td>\n",
       "      <td>$61K - $104K (Employer est.)</td>\n",
       "    </tr>\n",
       "    <tr>\n",
       "      <th>2</th>\n",
       "      <td>Garmin International, Inc.</td>\n",
       "      <td>3.9</td>\n",
       "      <td>C# Software Engineer</td>\n",
       "      <td>Cary, NC</td>\n",
       "      <td>2d</td>\n",
       "      <td>$95K - $118K (Glassdoor est.)</td>\n",
       "    </tr>\n",
       "    <tr>\n",
       "      <th>3</th>\n",
       "      <td>Snapchat</td>\n",
       "      <td>3.5</td>\n",
       "      <td>Software Engineer, Fullstack, 1+ Years of Expe...</td>\n",
       "      <td>Los Angeles, CA</td>\n",
       "      <td>2d</td>\n",
       "      <td>$97K - $145K (Employer est.)</td>\n",
       "    </tr>\n",
       "    <tr>\n",
       "      <th>4</th>\n",
       "      <td>Vitesco Technologies Group AG</td>\n",
       "      <td>3.1</td>\n",
       "      <td>Software Engineer</td>\n",
       "      <td>Seguin, TX</td>\n",
       "      <td>2d</td>\n",
       "      <td>$85K - $108K (Glassdoor est.)</td>\n",
       "    </tr>\n",
       "    <tr>\n",
       "      <th>5</th>\n",
       "      <td>Spotify</td>\n",
       "      <td>3.9</td>\n",
       "      <td>Backend Engineer II</td>\n",
       "      <td>New York, NY</td>\n",
       "      <td>1d</td>\n",
       "      <td>$123K - $175K (Employer est.)</td>\n",
       "    </tr>\n",
       "    <tr>\n",
       "      <th>6</th>\n",
       "      <td>Infor</td>\n",
       "      <td>4.0</td>\n",
       "      <td>Associate Software Engineer</td>\n",
       "      <td>Alpharetta, GA</td>\n",
       "      <td>7d</td>\n",
       "      <td>$77K - $94K (Glassdoor est.)</td>\n",
       "    </tr>\n",
       "  </tbody>\n",
       "</table>\n",
       "</div>"
      ],
      "text/plain": [
       "                         Company  Company Score  \\\n",
       "0                       ViewSoft            4.8   \n",
       "1                        Workiva            4.3   \n",
       "2     Garmin International, Inc.            3.9   \n",
       "3                       Snapchat            3.5   \n",
       "4  Vitesco Technologies Group AG            3.1   \n",
       "5                        Spotify            3.9   \n",
       "6                          Infor            4.0   \n",
       "\n",
       "                                           Job Title         Location Date  \\\n",
       "0                                  Software Engineer     Manassas, VA   8d   \n",
       "1                          Software Support Engineer           Remote   2d   \n",
       "2                               C# Software Engineer         Cary, NC   2d   \n",
       "3  Software Engineer, Fullstack, 1+ Years of Expe...  Los Angeles, CA   2d   \n",
       "4                                  Software Engineer       Seguin, TX   2d   \n",
       "5                                Backend Engineer II     New York, NY   1d   \n",
       "6                        Associate Software Engineer   Alpharetta, GA   7d   \n",
       "\n",
       "                          Salary  \n",
       "0   $68K - $94K (Glassdoor est.)  \n",
       "1   $61K - $104K (Employer est.)  \n",
       "2  $95K - $118K (Glassdoor est.)  \n",
       "3   $97K - $145K (Employer est.)  \n",
       "4  $85K - $108K (Glassdoor est.)  \n",
       "5  $123K - $175K (Employer est.)  \n",
       "6   $77K - $94K (Glassdoor est.)  "
      ]
     },
     "execution_count": 65,
     "metadata": {},
     "output_type": "execute_result"
    }
   ],
   "source": [
    "import pandas as pd\n",
    "\n",
    "# Load the CSV file into a DataFrame\n",
    "df = pd.read_csv(\"Software Engineer Salaries.csv\")\n",
    "\n",
    "# Display the first 10 rows of the DataFrame\n",
    "df.head(7)"
   ]
  },
  {
   "cell_type": "code",
   "execution_count": 66,
   "id": "8b3c9ea8",
   "metadata": {},
   "outputs": [
    {
     "data": {
      "text/plain": [
       "870"
      ]
     },
     "execution_count": 66,
     "metadata": {},
     "output_type": "execute_result"
    }
   ],
   "source": [
    "# Get the total number of rows in the DataFrame\n",
    "len(df.index)"
   ]
  },
  {
   "cell_type": "code",
   "execution_count": 67,
   "id": "d9531eee",
   "metadata": {},
   "outputs": [
    {
     "name": "stdout",
     "output_type": "stream",
     "text": [
      "3.895310519645121\n"
     ]
    }
   ],
   "source": [
    "# Calculate the mean of the 'Company Score' column\n",
    "meanscore = df[\"Company Score\"].mean()\n",
    "print(meanscore)"
   ]
  },
  {
   "cell_type": "code",
   "execution_count": 68,
   "id": "96eed708",
   "metadata": {},
   "outputs": [
    {
     "name": "stdout",
     "output_type": "stream",
     "text": [
      "                      Company  Company Score                    Job Title  \\\n",
      "0                    ViewSoft            4.8            Software Engineer   \n",
      "1                     Workiva            4.3    Software Support Engineer   \n",
      "2  Garmin International, Inc.            3.9         C# Software Engineer   \n",
      "5                     Spotify            3.9          Backend Engineer II   \n",
      "6                       Infor            4.0  Associate Software Engineer   \n",
      "\n",
      "         Location Date                         Salary  \n",
      "0    Manassas, VA   8d   $68K - $94K (Glassdoor est.)  \n",
      "1          Remote   2d   $61K - $104K (Employer est.)  \n",
      "2        Cary, NC   2d  $95K - $118K (Glassdoor est.)  \n",
      "5    New York, NY   1d  $123K - $175K (Employer est.)  \n",
      "6  Alpharetta, GA   7d   $77K - $94K (Glassdoor est.)  \n"
     ]
    }
   ],
   "source": [
    "# Filter rows where 'Company Score' is greater than or equal to the mean score\n",
    "resss = df[df[\"Company Score\"] >= meanscore]\n",
    "print(resss.head(5))"
   ]
  },
  {
   "cell_type": "code",
   "execution_count": 69,
   "id": "6d07b06d",
   "metadata": {},
   "outputs": [
    {
     "name": "stdout",
     "output_type": "stream",
     "text": [
      "                                     Company  Company Score  \\\n",
      "452               Zurn Elkay Water Solutions            5.0   \n",
      "264                                  Flysoft            5.0   \n",
      "470  Engineering Technology Associates, Inc.            5.0   \n",
      "41                   Amazon.com Services LLC            5.0   \n",
      "420                          Hewlett Packard            5.0   \n",
      "\n",
      "                                        Job Title           Location  Date  \\\n",
      "452         Software Systems Engineer - Mason, OH          Mason, OH  30d+   \n",
      "264                             Software Engineer                NaN    2d   \n",
      "470  Full Stack Engineer II (Frontend) - Benefits  San Francisco, CA    2d   \n",
      "41       Software Dev Engineer - Computer Science        Seattle, WA    2d   \n",
      "420                             Software Engineer    Beavercreek, OH  30d+   \n",
      "\n",
      "                                       Salary  \n",
      "452            $144K - $196K (Glassdoor est.)  \n",
      "264             $78K - $112K (Glassdoor est.)  \n",
      "470  $16.00 - $46.00 Per Hour (Employer est.)  \n",
      "41              $112K - $165K (Employer est.)  \n",
      "420             $86K - $128K (Glassdoor est.)  \n"
     ]
    }
   ],
   "source": [
    "# Sort the filtered data by 'Company Score' in descending order\n",
    "df2 = resss.sort_values(\"Company Score\", ascending=False)\n",
    "print(df2.head())\n"
   ]
  },
  {
   "cell_type": "code",
   "execution_count": 70,
   "id": "f121bb85",
   "metadata": {},
   "outputs": [
    {
     "name": "stdout",
     "output_type": "stream",
     "text": [
      "                      Company Score\n",
      "Location                           \n",
      "Framingham, MA                  5.0\n",
      "Lorton, VA                      5.0\n",
      "Northborough, MA                5.0\n",
      "Farmington Hills, MI            5.0\n",
      "Menlo Park, CA                  5.0\n",
      "Los Altos, CA                   5.0\n",
      "Norcross, GA                    5.0\n",
      "Albuquerque, NM                 5.0\n",
      "Brookfield, WI                  5.0\n",
      "Pullman, WA                     4.9\n",
      "Manassas, VA                    4.8\n",
      "Jackson, MI                     4.8\n",
      "Fairborn, OH                    4.8\n",
      "Morris Plains, NJ               4.8\n",
      "Redstone Arsenal                4.7\n"
     ]
    }
   ],
   "source": [
    "# Group the data by 'Location' and calculate the mean 'Company Score' \n",
    "# (for each location)\n",
    "# Sort the results by 'Company Score' in descending order\n",
    "grouped = df.groupby(\"Location\")[[\"Company Score\"]\n",
    "                    ].mean().sort_values(\"Company Score\", ascending=False)\n",
    "\n",
    "# Print the top 15 locations with the highest average 'Company Score'\n",
    "print(grouped.head(15))"
   ]
  },
  {
   "cell_type": "code",
   "execution_count": 71,
   "id": "a06a2f6d",
   "metadata": {},
   "outputs": [
    {
     "name": "stdout",
     "output_type": "stream",
     "text": [
      "      video_id                                          title  \\\n",
      "0  Jw1Y-zhQURU  John Lewis Christmas Ad 2017 - #MozTheMonster   \n",
      "1  3s1rvMFUweQ      Taylor Swift: …Ready for It? (Live) - SNL   \n",
      "2  n1WpP7iowLc     Eminem - Walk On Water (Audio) ft. Beyoncé   \n",
      "\n",
      "         channel_title  category_id              publish_time  \\\n",
      "0           John Lewis           26  2017-11-10T07:38:29.000Z   \n",
      "1  Saturday Night Live           24  2017-11-12T06:24:44.000Z   \n",
      "2           EminemVEVO           10  2017-11-10T17:00:03.000Z   \n",
      "\n",
      "                                                tags     views   likes  \\\n",
      "0  christmas|\"john lewis christmas\"|\"john lewis\"|...   7224515   55681   \n",
      "1  SNL|\"Saturday Night Live\"|\"SNL Season 43\"|\"Epi...   1053632   25561   \n",
      "2  Eminem|\"Walk\"|\"On\"|\"Water\"|\"Aftermath/Shady/In...  17158579  787420   \n",
      "\n",
      "   dislikes  comment_count  \n",
      "0     10247           9479  \n",
      "1      2294           2757  \n",
      "2     43420         125882  \n"
     ]
    }
   ],
   "source": [
    "# Load the CSV file into a DataFrame\n",
    "df = pd.read_csv(\"GBvideos.csv\")\n",
    "\n",
    "# Drop unnecessary columns from the DataFrame\n",
    "df.drop([\"thumbnail_link\", \"comments_disabled\",\n",
    "         \"ratings_disabled\", \"video_error_or_removed\",\n",
    "         \"description\", \"trending_date\"], axis=1, inplace=True)\n",
    "\n",
    "# Display the DataFrame after dropping the columns\n",
    "print(df.head(3))"
   ]
  },
  {
   "cell_type": "code",
   "execution_count": 72,
   "id": "ae7c0fdf",
   "metadata": {},
   "outputs": [
    {
     "name": "stdout",
     "output_type": "stream",
     "text": [
      "Likes_mean: 134519.55349984582 Dislike_mean: 7612.559975331483\n"
     ]
    }
   ],
   "source": [
    "# Calculate the mean number of likes and dislikes\n",
    "likes_mean = df[\"likes\"].mean()\n",
    "dislikes_mean = df[\"dislikes\"].mean()\n",
    "print(\"Likes_mean:\",likes_mean, \"Dislike_mean:\", dislikes_mean)  \n",
    "# Uncomment to print the mean likes and dislikes"
   ]
  },
  {
   "cell_type": "code",
   "execution_count": 73,
   "id": "b673d6b6",
   "metadata": {},
   "outputs": [
    {
     "name": "stdout",
     "output_type": "stream",
     "text": [
      "     likes  dislikes\n",
      "0    55681     10247\n",
      "1    25561      2294\n",
      "2   787420     43420\n",
      "3      193        12\n",
      "4       30         2\n",
      "5    52708      1431\n",
      "6  1634124     21082\n",
      "7    57309       749\n",
      "8     2163       147\n",
      "9   190084     15015\n"
     ]
    }
   ],
   "source": [
    "# Display the first 50 rows of 'likes' and 'dislikes'\n",
    "fifty = df[[\"likes\", \"dislikes\"]].head(50)\n",
    "print(fifty.head(10))  "
   ]
  },
  {
   "cell_type": "code",
   "execution_count": 74,
   "id": "b92179d7",
   "metadata": {},
   "outputs": [
    {
     "name": "stdout",
     "output_type": "stream",
     "text": [
      "28412    Nicky Jam x J. Balvin - X (EQUIS) | Video Ofic...\n",
      "Name: title, dtype: object\n"
     ]
    }
   ],
   "source": [
    "# Find the title of the video with the most views\n",
    "most_views = df[df[\"views\"].max() == df[\"views\"]][\"title\"]\n",
    "print(most_views)  "
   ]
  },
  {
   "cell_type": "code",
   "execution_count": 75,
   "id": "1217138d",
   "metadata": {},
   "outputs": [
    {
     "name": "stdout",
     "output_type": "stream",
     "text": [
      "                                                   title      views\n",
      "28412  Nicky Jam x J. Balvin - X (EQUIS) | Video Ofic...  424538912\n",
      "28212  Nicky Jam x J. Balvin - X (EQUIS) | Video Ofic...  413586699\n",
      "28008  Nicky Jam x J. Balvin - X (EQUIS) | Video Ofic...  402650804\n",
      "27811  Nicky Jam x J. Balvin - X (EQUIS) | Video Ofic...  392036878\n",
      "27615  Nicky Jam x J. Balvin - X (EQUIS) | Video Ofic...  382401497\n",
      "27424  Nicky Jam x J. Balvin - X (EQUIS) | Video Ofic...  372399338\n",
      "27241  Nicky Jam x J. Balvin - X (EQUIS) | Video Ofic...  362111555\n",
      "27052  Nicky Jam x J. Balvin - X (EQUIS) | Video Ofic...  349987176\n",
      "26861  Nicky Jam x J. Balvin - X (EQUIS) | Video Ofic...  339629489\n",
      "34460  Te Bote Remix - Casper, Nio García, Darell, Ni...  337621571\n"
     ]
    }
   ],
   "source": [
    "# Display the top 10 most viewed videos along with their titles and views\n",
    "mostts_viewed_ten = df.sort_values(\"views\", \n",
    "                                   ascending=False).head(10)[[\"title\", \"views\"]]\n",
    "print(mostts_viewed_ten)  "
   ]
  },
  {
   "cell_type": "code",
   "execution_count": 77,
   "id": "ba4a67fd",
   "metadata": {},
   "outputs": [
    {
     "name": "stdout",
     "output_type": "stream",
     "text": [
      "category_id\n",
      "19     9674.447917\n",
      "2     24608.506944\n",
      "25    25021.685714\n",
      "26    26639.183091\n",
      "15    28629.913858\n",
      "Name: likes, dtype: float64\n"
     ]
    }
   ],
   "source": [
    "# Group the data by 'category_id', calculate the mean of 'likes', \n",
    "# and sort the results by likes\n",
    "categoried = df.groupby(\"category_id\").mean().sort_values(\"likes\")[\"likes\"]\n",
    "print(categoried.head())"
   ]
  },
  {
   "cell_type": "code",
   "execution_count": 60,
   "id": "7b499a1b",
   "metadata": {},
   "outputs": [
    {
     "name": "stdout",
     "output_type": "stream",
     "text": [
      "category_id\n",
      "10    293013140\n",
      "24    116897440\n",
      "22     18713149\n",
      "23     16718816\n",
      "1      15590011\n",
      "17     10056226\n",
      "25      9386604\n",
      "29      7672790\n",
      "26      7356296\n",
      "20      6166994\n",
      "28      4029065\n",
      "27      1636903\n",
      "15      1404698\n",
      "2        505085\n",
      "19       118177\n",
      "43        80957\n",
      "Name: comment_count, dtype: int64\n"
     ]
    }
   ],
   "source": [
    "# Group the data by 'category_id', sum the 'comment_count', and sort \n",
    "# by comment count in descending order\n",
    "summed = df.groupby(\"category_id\").sum().sort_values(\"comment_count\", \n",
    "                                    ascending=False)[\"comment_count\"]\n",
    "print(summed)  # Display the summed comment counts, sorted by comment count"
   ]
  },
  {
   "cell_type": "code",
   "execution_count": 54,
   "id": "35349ce7",
   "metadata": {},
   "outputs": [
    {
     "name": "stdout",
     "output_type": "stream",
     "text": [
      "                                                   title  title_len\n",
      "0          John Lewis Christmas Ad 2017 - #MozTheMonster         45\n",
      "1              Taylor Swift: …Ready for It? (Live) - SNL         41\n",
      "2             Eminem - Walk On Water (Audio) ft. Beyoncé         42\n",
      "3      Goals from Salford City vs Class of 92 and Fri...         76\n",
      "4      Dashcam captures truck's near miss with child ...         55\n",
      "...                                                  ...        ...\n",
      "38911  Enrique Iglesias - MOVE TO MIAMI (Official Vid...         61\n",
      "38912  Jacob Sartorius - Up With It (Official Music V...         51\n",
      "38913                 Anne-Marie - 2002 [Official Video]         34\n",
      "38914  Eleni Foureira - Fuego - Cyprus - LIVE - First...         75\n",
      "38915  KYLE - Ikuyo feat.  2 Chainz & Sophia Black [A...         51\n",
      "\n",
      "[38916 rows x 2 columns]\n"
     ]
    }
   ],
   "source": [
    "# Create a new column 'title_len' to store the length of each video's title\n",
    "df[\"title_len\"] = df[\"title\"].apply(len)\n",
    "print(df[[\"title\", \"title_len\"]]) "
   ]
  },
  {
   "cell_type": "code",
   "execution_count": 55,
   "id": "00bc57eb",
   "metadata": {},
   "outputs": [
    {
     "name": "stdout",
     "output_type": "stream",
     "text": [
      "                                                    tags  tags_count\n",
      "0      christmas|\"john lewis christmas\"|\"john lewis\"|...           9\n",
      "1      SNL|\"Saturday Night Live\"|\"SNL Season 43\"|\"Epi...          36\n",
      "2      Eminem|\"Walk\"|\"On\"|\"Water\"|\"Aftermath/Shady/In...           6\n",
      "3      Salford City FC|\"Salford City\"|\"Salford\"|\"Clas...           9\n",
      "4                                                 [none]           1\n",
      "...                                                  ...         ...\n",
      "38911  Enrique Iglesias feat. Pitbull|\"MOVE TO MIAMI\"...           4\n",
      "38912  jacob sartorius|\"jacob\"|\"up with it\"|\"jacob sa...          41\n",
      "38913  anne|\"marie\"|\"anne-marie\"|\"2002\"|\"two thousand...          17\n",
      "38914  Eurovision Song Contest|\"2018\"|\"Lisbon\"|\"Cypru...           8\n",
      "38915  Kyle|\"SuperDuperKyle\"|\"Ikuyo\"|\"2 Chainz\"|\"Soph...          18\n",
      "\n",
      "[38916 rows x 2 columns]\n"
     ]
    }
   ],
   "source": [
    "# Create a new column 'tags_count' to store the number of tags for each video\n",
    "df[\"tags_count\"] = df[\"tags\"].apply(lambda x: len(x.split(\"|\")))\n",
    "print(df[[\"tags\", \"tags_count\"]])  "
   ]
  },
  {
   "cell_type": "code",
   "execution_count": 56,
   "id": "3495024d",
   "metadata": {},
   "outputs": [
    {
     "name": "stdout",
     "output_type": "stream",
     "text": [
      "        likes  dislikes  like_ratio\n",
      "38872  123856         0    0.999992\n",
      "38704  112723         0    0.999991\n",
      "38528  103086         0    0.999990\n",
      "38356  100102         0    0.999990\n",
      "38188   99719         0    0.999990\n",
      "...       ...       ...         ...\n",
      "7520        0         0    0.000000\n",
      "7519        0         0    0.000000\n",
      "21658       0         0    0.000000\n",
      "21624       0         0    0.000000\n",
      "1414        0         0    0.000000\n",
      "\n",
      "[38916 rows x 3 columns]\n"
     ]
    }
   ],
   "source": [
    "# Calculate the like ratio ('begeni_orani') as the ratio of likes \n",
    "# to total interactions (likes + dislikes)\n",
    "df[\"like_ratio\"] = df[\"likes\"] / (df[\"dislikes\"] + df[\"likes\"] + 1)  \n",
    "# +1 to avoid division by zero\n",
    "\n",
    "# Sort the DataFrame by 'begeni_orani' in descending order\n",
    "df = df.sort_values(\"like_ratio\", ascending=False)\n",
    "\n",
    "# Display the sorted DataFrame with columns 'likes', 'dislikes',\n",
    "# and 'begeni_orani'\n",
    "print(df[[\"likes\", \"dislikes\", \"like_ratio\"]])"
   ]
  },
  {
   "cell_type": "code",
   "execution_count": null,
   "id": "c9f60560",
   "metadata": {},
   "outputs": [],
   "source": []
  }
 ],
 "metadata": {
  "kernelspec": {
   "display_name": "Python 3 (ipykernel)",
   "language": "python",
   "name": "python3"
  },
  "language_info": {
   "codemirror_mode": {
    "name": "ipython",
    "version": 3
   },
   "file_extension": ".py",
   "mimetype": "text/x-python",
   "name": "python",
   "nbconvert_exporter": "python",
   "pygments_lexer": "ipython3",
   "version": "3.11.3"
  }
 },
 "nbformat": 4,
 "nbformat_minor": 5
}
