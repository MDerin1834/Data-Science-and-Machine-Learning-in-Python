{
 "cells": [
  {
   "cell_type": "code",
   "execution_count": 3,
   "id": "66c821c8",
   "metadata": {},
   "outputs": [
    {
     "name": "stdout",
     "output_type": "stream",
     "text": [
      "[1 3 4 6 9]\n"
     ]
    }
   ],
   "source": [
    "# import numpy library\n",
    "import numpy as np\n",
    "\n",
    "# Create a numpy array with the values [1, 3, 4, 6, 9]\n",
    "result = np.array([1,3,4,6,9])\n",
    "print(result)"
   ]
  },
  {
   "cell_type": "code",
   "execution_count": 5,
   "id": "2ad252dc",
   "metadata": {},
   "outputs": [
    {
     "name": "stdout",
     "output_type": "stream",
     "text": [
      "[ 2  6 10 14 18]\n"
     ]
    }
   ],
   "source": [
    "# Create an array with values ranging from 2 to 19 with a step of 4 \n",
    "#(i.e., [2, 6, 10, 14, 18])\n",
    "rs = np.arange(2,19,4)\n",
    "print(rs)"
   ]
  },
  {
   "cell_type": "code",
   "execution_count": 4,
   "id": "63dc41a3",
   "metadata": {},
   "outputs": [
    {
     "name": "stdout",
     "output_type": "stream",
     "text": [
      "[0. 0. 0. 0. 0. 0. 0. 0. 0. 0.]\n"
     ]
    }
   ],
   "source": [
    "# Create an array filled with zeros of size 10\n",
    "rss = np.zeros(10)\n",
    "print(rss)"
   ]
  },
  {
   "cell_type": "code",
   "execution_count": 6,
   "id": "3dbd383c",
   "metadata": {},
   "outputs": [
    {
     "name": "stdout",
     "output_type": "stream",
     "text": [
      "[1. 1. 1. 1.]\n"
     ]
    }
   ],
   "source": [
    "# Create an array filled with ones of size 4\n",
    "re = np.ones(4)\n",
    "print(re)"
   ]
  },
  {
   "cell_type": "code",
   "execution_count": 7,
   "id": "ff5565c2",
   "metadata": {},
   "outputs": [
    {
     "name": "stdout",
     "output_type": "stream",
     "text": [
      "[ 3.          6.66666667 10.33333333 14.        ]\n"
     ]
    }
   ],
   "source": [
    "# Create an array with 4 values linearly spaced between 3 and 14\n",
    "es = np.linspace(3,14,4)\n",
    "print(es)"
   ]
  },
  {
   "cell_type": "code",
   "execution_count": 8,
   "id": "93efb429",
   "metadata": {},
   "outputs": [
    {
     "name": "stdout",
     "output_type": "stream",
     "text": [
      "9\n"
     ]
    }
   ],
   "source": [
    "# Generate a random integer between 0 and 10\n",
    "print(np.random.randint(0,10))"
   ]
  },
  {
   "cell_type": "code",
   "execution_count": 9,
   "id": "f4c2892a",
   "metadata": {},
   "outputs": [
    {
     "name": "stdout",
     "output_type": "stream",
     "text": [
      "[0.67234177 0.16711712 0.20446682]\n"
     ]
    }
   ],
   "source": [
    "# Generate an array of 3 random floats between 0 and 1\n",
    "print(np.random.rand(3))"
   ]
  },
  {
   "cell_type": "code",
   "execution_count": 10,
   "id": "ccd8bfe0",
   "metadata": {},
   "outputs": [
    {
     "name": "stdout",
     "output_type": "stream",
     "text": [
      "[12  4  4  9 11  4]\n"
     ]
    }
   ],
   "source": [
    "# Generate an array of 6 random integers between 4 and 18\n",
    "print(np.random.randint(4,18,6))"
   ]
  },
  {
   "cell_type": "code",
   "execution_count": 11,
   "id": "58a93f59",
   "metadata": {},
   "outputs": [],
   "source": [
    "# Create a numpy array with values from 0 to 49\n",
    "np_array = np.arange(50)"
   ]
  },
  {
   "cell_type": "code",
   "execution_count": 12,
   "id": "f755c503",
   "metadata": {},
   "outputs": [
    {
     "name": "stdout",
     "output_type": "stream",
     "text": [
      "[[ 0  1  2  3  4  5  6  7  8  9]\n",
      " [10 11 12 13 14 15 16 17 18 19]\n",
      " [20 21 22 23 24 25 26 27 28 29]\n",
      " [30 31 32 33 34 35 36 37 38 39]\n",
      " [40 41 42 43 44 45 46 47 48 49]]\n"
     ]
    }
   ],
   "source": [
    "# Reshape the array into a 5x10 matrix\n",
    "resultt = np_array.reshape(5,10) # matrix\n",
    "print(resultt)"
   ]
  },
  {
   "cell_type": "code",
   "execution_count": 13,
   "id": "9f29efbf",
   "metadata": {},
   "outputs": [
    {
     "name": "stdout",
     "output_type": "stream",
     "text": [
      "[ 45 145 245 345 445]\n"
     ]
    }
   ],
   "source": [
    "# Calculate the sum of each row (axis=1 represents rows) \n",
    "print(resultt.sum(axis=1)) # sum of rows"
   ]
  },
  {
   "cell_type": "code",
   "execution_count": 14,
   "id": "17f09b89",
   "metadata": {},
   "outputs": [
    {
     "name": "stdout",
     "output_type": "stream",
     "text": [
      "[100 105 110 115 120 125 130 135 140 145]\n"
     ]
    }
   ],
   "source": [
    "# Calculate the sum of each column (axis=0 represents columns) and \n",
    "print(resultt.sum(axis=0)) # sum of columns"
   ]
  },
  {
   "cell_type": "code",
   "execution_count": 15,
   "id": "e5977975",
   "metadata": {},
   "outputs": [
    {
     "name": "stdout",
     "output_type": "stream",
     "text": [
      "[40 63 67 44 26 30 34 69 61 23]\n"
     ]
    }
   ],
   "source": [
    "# Generate an array of 10 random integers between 23 and 100\n",
    "rndd = np.random.randint(23,100,10)\n",
    "print(rndd)"
   ]
  },
  {
   "cell_type": "code",
   "execution_count": 16,
   "id": "86a2bee8",
   "metadata": {},
   "outputs": [
    {
     "name": "stdout",
     "output_type": "stream",
     "text": [
      "Max value: 69\n"
     ]
    }
   ],
   "source": [
    "# Find and print the maximum value in the array\n",
    "maxx = rndd.max()\n",
    "print(\"Max value:\", maxx)"
   ]
  },
  {
   "cell_type": "code",
   "execution_count": 17,
   "id": "1307b96c",
   "metadata": {},
   "outputs": [
    {
     "name": "stdout",
     "output_type": "stream",
     "text": [
      "Min value: 23\n"
     ]
    }
   ],
   "source": [
    "# Find and print the minimum value in the array\n",
    "minn = rndd.min()\n",
    "print(\"Min value:\", minn)"
   ]
  },
  {
   "cell_type": "code",
   "execution_count": 18,
   "id": "24a7f66c",
   "metadata": {},
   "outputs": [
    {
     "name": "stdout",
     "output_type": "stream",
     "text": [
      "Mean value: 45.7\n"
     ]
    }
   ],
   "source": [
    "# Calculate and print the mean of the array\n",
    "meann = rndd.mean()\n",
    "print(\"Mean value:\", meann)"
   ]
  },
  {
   "cell_type": "code",
   "execution_count": 19,
   "id": "437016c8",
   "metadata": {},
   "outputs": [
    {
     "name": "stdout",
     "output_type": "stream",
     "text": [
      "Index of max value: 7\n"
     ]
    }
   ],
   "source": [
    "# Find and print the index of the maximum value in the array\n",
    "indexofmax = rndd.argmax()\n",
    "print(\"Index of max value:\", indexofmax)"
   ]
  },
  {
   "cell_type": "code",
   "execution_count": 20,
   "id": "6c0fb5c9",
   "metadata": {},
   "outputs": [
    {
     "name": "stdout",
     "output_type": "stream",
     "text": [
      "[91 44 51 61 99 70]\n"
     ]
    }
   ],
   "source": [
    "# Generate an array 'num1' of 6 random integers between 10 and 100\n",
    "num1 = np.random.randint(10,100,6)\n",
    "print(num1)"
   ]
  },
  {
   "cell_type": "code",
   "execution_count": 21,
   "id": "85960b50",
   "metadata": {},
   "outputs": [
    {
     "name": "stdout",
     "output_type": "stream",
     "text": [
      "[98 18 68 50 34 46]\n"
     ]
    }
   ],
   "source": [
    "# Generate another array 'num2' of 6 random integers between 10 and 100\n",
    "num2 = np.random.randint(10,100,6)\n",
    "print(num2)"
   ]
  },
  {
   "cell_type": "code",
   "execution_count": 22,
   "id": "4d36f45f",
   "metadata": {},
   "outputs": [
    {
     "name": "stdout",
     "output_type": "stream",
     "text": [
      "[189  62 119 111 133 116]\n",
      "[8918  792 3468 3050 3366 3220]\n"
     ]
    }
   ],
   "source": [
    "# Add the two arrays element-wise\n",
    "total = num1 + num2\n",
    "\n",
    "# Multiply the two arrays element-wise\n",
    "multi = num1 * num2\n",
    "\n",
    "# Print both arrays, their sum, and their element-wise product\n",
    "print(total)\n",
    "print(multi)"
   ]
  },
  {
   "cell_type": "code",
   "execution_count": 23,
   "id": "5a65d7c1",
   "metadata": {},
   "outputs": [
    {
     "name": "stdout",
     "output_type": "stream",
     "text": [
      "[ 0.10598751  0.01770193  0.67022918 -0.96611777 -0.99920683  0.77389068]\n"
     ]
    }
   ],
   "source": [
    "# Calculate the sine of each element in 'num1'\n",
    "sinn = np.sin(num1)\n",
    "print(sinn)"
   ]
  },
  {
   "cell_type": "code",
   "execution_count": 24,
   "id": "9d9cb030",
   "metadata": {},
   "outputs": [
    {
     "name": "stdout",
     "output_type": "stream",
     "text": [
      "[-0.81928825  0.66031671  0.44014302  0.96496603 -0.84857027 -0.43217794]\n"
     ]
    }
   ],
   "source": [
    "# Calculate the cosine of each element in 'num2'\n",
    "coss = np.cos(num2)\n",
    "print(coss)"
   ]
  },
  {
   "cell_type": "code",
   "execution_count": 25,
   "id": "255f67ba",
   "metadata": {},
   "outputs": [
    {
     "name": "stdout",
     "output_type": "stream",
     "text": [
      "[4.51085951 3.78418963 3.93182563 4.11087386 4.59511985 4.24849524]\n"
     ]
    }
   ],
   "source": [
    "# Compute the natural logarithm of each element in 'num1'\n",
    "log = np.log(num1)\n",
    "print(log)"
   ]
  },
  {
   "cell_type": "code",
   "execution_count": 26,
   "id": "37b21a05",
   "metadata": {},
   "outputs": [
    {
     "name": "stdout",
     "output_type": "stream",
     "text": [
      "[9.89949494 4.24264069 8.24621125 7.07106781 5.83095189 6.78232998]\n"
     ]
    }
   ],
   "source": [
    "# Compute the square root of each element in 'num2'\n",
    "sqr = np.sqrt(num2)\n",
    "print(sqr)"
   ]
  },
  {
   "cell_type": "code",
   "execution_count": 27,
   "id": "621a1c4f",
   "metadata": {},
   "outputs": [
    {
     "name": "stdout",
     "output_type": "stream",
     "text": [
      "[[91 44 51]\n",
      " [61 99 70]]\n",
      "[[98 18 68]\n",
      " [50 34 46]]\n"
     ]
    }
   ],
   "source": [
    "# Reshape 'num1' into a 2x3 matrix\n",
    "matrix1 = num1.reshape(2,3)\n",
    "\n",
    "# Reshape 'num2' into a 2x3 matrix\n",
    "matrix2 = num2.reshape(2,3)\n",
    "\n",
    "# Print both reshaped matrices\n",
    "print(matrix1)\n",
    "print(matrix2)"
   ]
  },
  {
   "cell_type": "code",
   "execution_count": 28,
   "id": "f9825f7a",
   "metadata": {},
   "outputs": [],
   "source": [
    "# Vertically stack 'matrix1' and 'matrix2'\n",
    "vertical_add = np.vstack((matrix1, matrix2))\n",
    "\n",
    "# Horizontally stack 'matrix1' and 'matrix2'\n",
    "horizontal_add = np.hstack((matrix1, matrix2))"
   ]
  },
  {
   "cell_type": "code",
   "execution_count": 29,
   "id": "c4ebd3f6",
   "metadata": {},
   "outputs": [
    {
     "name": "stdout",
     "output_type": "stream",
     "text": [
      "vertically added: [[91 44 51]\n",
      " [61 99 70]\n",
      " [98 18 68]\n",
      " [50 34 46]]\n",
      "horizontally added: [[91 44 51 98 18 68]\n",
      " [61 99 70 50 34 46]]\n"
     ]
    }
   ],
   "source": [
    "# Print the vertically and horizontally stacked matrices\n",
    "print(\"vertically added:\",vertical_add)\n",
    "print(\"horizontally added:\",horizontal_add)"
   ]
  },
  {
   "cell_type": "code",
   "execution_count": 30,
   "id": "9709989b",
   "metadata": {},
   "outputs": [
    {
     "name": "stdout",
     "output_type": "stream",
     "text": [
      "[91 44 51 61 99 70]\n",
      "[98 18 68 50 34 46]\n"
     ]
    }
   ],
   "source": [
    "# Print the original arrays for reference\n",
    "print(num1)\n",
    "print(num2)"
   ]
  },
  {
   "cell_type": "code",
   "execution_count": 31,
   "id": "976b6822",
   "metadata": {},
   "outputs": [
    {
     "name": "stdout",
     "output_type": "stream",
     "text": [
      "[ True False False  True  True  True]\n"
     ]
    }
   ],
   "source": [
    "# Check which elements of 'num1' are greater than or equal to 55 (returns a boolean array)\n",
    "big = num1 >= 55\n",
    "print(big)"
   ]
  },
  {
   "cell_type": "code",
   "execution_count": 32,
   "id": "3cb84046",
   "metadata": {},
   "outputs": [
    {
     "name": "stdout",
     "output_type": "stream",
     "text": [
      "[ True  True  True  True  True  True]\n"
     ]
    }
   ],
   "source": [
    "# Check which elements of 'num2' are even (returns a boolean array)\n",
    "even = num2 % 2 == 0\n",
    "\n",
    "# Print the boolean array\n",
    "print(even)"
   ]
  },
  {
   "cell_type": "code",
   "execution_count": 33,
   "id": "46466f34",
   "metadata": {},
   "outputs": [
    {
     "name": "stdout",
     "output_type": "stream",
     "text": [
      "[98 18 68 50 34 46]\n"
     ]
    }
   ],
   "source": [
    "# Print the elements of 'num2' that are even, using boolean indexing\n",
    "print(num2[even])"
   ]
  },
  {
   "cell_type": "code",
   "execution_count": 34,
   "id": "966c5793",
   "metadata": {},
   "outputs": [
    {
     "name": "stdout",
     "output_type": "stream",
     "text": [
      "[91 61 99 70]\n"
     ]
    }
   ],
   "source": [
    "print(num1[big])"
   ]
  },
  {
   "cell_type": "code",
   "execution_count": 36,
   "id": "65d78ef1",
   "metadata": {},
   "outputs": [
    {
     "name": "stdout",
     "output_type": "stream",
     "text": [
      "[[ 0  1  2  3  4  5]\n",
      " [ 6  7  8  9 10 11]\n",
      " [12 13 14 15 16 17]]\n",
      "Summation: [18 21 24 27 30 33]\n"
     ]
    }
   ],
   "source": [
    "# Create a 3x6 matrix including numbers between 0 and 18\n",
    "array2 = np.arange(18).reshape(3,6)\n",
    "print(array2)\n",
    "print('Summation:',sum(array2)) \n",
    "# Sum of each column"
   ]
  },
  {
   "cell_type": "code",
   "execution_count": 44,
   "id": "62851818",
   "metadata": {},
   "outputs": [
    {
     "name": "stdout",
     "output_type": "stream",
     "text": [
      "[[64 67 84 87 87 29]\n",
      " [41 56 90 32 78 85]\n",
      " [59 66 57 45 97 92]\n",
      " [29 40 89 99 67 84]]\n",
      "Min points in each column: [29 40 57 32 67 29]\n",
      "Max points in each column: [64 67 90 99 97 92]\n",
      "Total points of each row: [418 382 416 408]\n"
     ]
    }
   ],
   "source": [
    "# Set the random seed to ensure reproducibility of the random numbers \n",
    "np.random.seed(0)\n",
    "\n",
    "# Generate a 4x6 matrix of random integers between 20 and 100 (representing marks of 4 students in 6 subjects)\n",
    "matrix4 = np.random.randint(20, 100, size=(4, 6))\n",
    "\n",
    "# Print the matrix containing the marks\n",
    "print(matrix4)\n",
    "\n",
    "# Find and print the minimum/maximum and total values \n",
    "print('Min points in each column:', matrix4.min(axis=0))\n",
    "\n",
    "print('Max points in each column:', matrix4.max(axis=0))\n",
    "\n",
    "print('Total points of each row:', matrix4.sum(axis=1))"
   ]
  },
  {
   "cell_type": "code",
   "execution_count": 40,
   "id": "e8ac8e0d",
   "metadata": {},
   "outputs": [
    {
     "name": "stdout",
     "output_type": "stream",
     "text": [
      "[[1. 1. 1. 1.]\n",
      " [1. 1. 1. 1.]\n",
      " [1. 1. 1. 1.]\n",
      " [1. 1. 1. 1.]]\n",
      "[0 1 2 3]\n",
      "\n",
      "[[1. 2. 3. 4.]\n",
      " [1. 2. 3. 4.]\n",
      " [1. 2. 3. 4.]\n",
      " [1. 2. 3. 4.]]\n"
     ]
    }
   ],
   "source": [
    "# Create a 4x4 matrix filled with ones\n",
    "oness = np.ones((4,4))\n",
    "\n",
    "# Create a 1D array with a range of values from 0 to 3 (4 values)\n",
    "addition = np.arange(4)\n",
    "\n",
    "# Add the 1D array 'addition' to the 4x4 matrix 'oness' (broadcasting will occur)\n",
    "new = oness + addition\n",
    "\n",
    "# Print the original 4x4 matrix filled with ones\n",
    "print(oness)\n",
    "\n",
    "# Print the 1D array created with arange (0, 1, 2, 3)\n",
    "print(addition)\n",
    "\n",
    "# Print a blank line for better formatting\n",
    "print()\n",
    "\n",
    "# Print the result of the broadcasting addition\n",
    "print(new)"
   ]
  },
  {
   "cell_type": "code",
   "execution_count": 42,
   "id": "36412dcd",
   "metadata": {},
   "outputs": [
    {
     "name": "stdout",
     "output_type": "stream",
     "text": [
      "Original matrix:\n",
      "[[12  5  0  3 11  3]\n",
      " [ 7  9  3  5  2  4]\n",
      " [ 7  6  8  8 12 10]\n",
      " [ 1  6  7  7 14  8]]\n",
      "Values of matrix less than 5:\n",
      "[0 3 3 3 2 4 1]\n"
     ]
    }
   ],
   "source": [
    "# Set a random seed for reproducibility\n",
    "np.random.seed(0)\n",
    "\n",
    "# Create a 3x4 matrix of random integers between 0 and 9 (inclusive)\n",
    "matrx = np.random.randint(15, size=(4, 6))\n",
    "\n",
    "# Print the original matrix\n",
    "print('Original matrix:')\n",
    "print(matrx)\n",
    "\n",
    "# Print the values of X that are less than 5 (Boolean indexing)\n",
    "print('Values of matrix less than 5:')\n",
    "print(matrx[matrx < 5])"
   ]
  },
  {
   "cell_type": "code",
   "execution_count": null,
   "id": "0c16c49b",
   "metadata": {},
   "outputs": [],
   "source": []
  }
 ],
 "metadata": {
  "kernelspec": {
   "display_name": "Python 3 (ipykernel)",
   "language": "python",
   "name": "python3"
  },
  "language_info": {
   "codemirror_mode": {
    "name": "ipython",
    "version": 3
   },
   "file_extension": ".py",
   "mimetype": "text/x-python",
   "name": "python",
   "nbconvert_exporter": "python",
   "pygments_lexer": "ipython3",
   "version": "3.11.3"
  }
 },
 "nbformat": 4,
 "nbformat_minor": 5
}
