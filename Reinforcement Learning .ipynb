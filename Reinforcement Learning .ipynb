{
 "cells": [
  {
   "cell_type": "markdown",
   "id": "fb7547cb",
   "metadata": {},
   "source": [
    "# Reinforcement Learning "
   ]
  },
  {
   "cell_type": "code",
   "execution_count": 19,
   "id": "33bb2c2b",
   "metadata": {},
   "outputs": [
    {
     "name": "stdout",
     "output_type": "stream",
     "text": [
      "   Ad 1  Ad 2  Ad 3  Ad 4  Ad 5  Ad 6  Ad 7  Ad 8  Ad 9  Ad 10\n",
      "0     1     1     1     0     0     1     1     0     1      1\n",
      "1     1     0     1     0     1     0     1     0     1      1\n",
      "2     1     0     0     0     1     0     1     0     0      1\n",
      "3     1     0     1     0     0     1     0     0     0      1\n",
      "4     1     0     1     0     1     0     1     1     1      1\n"
     ]
    }
   ],
   "source": [
    "import pandas as pd\n",
    "import numpy as np\n",
    "\n",
    "# Set the column names for 10 ads\n",
    "column_names = [f'Ad {i}' for i in range(1, 11)]\n",
    "\n",
    "# Initialize an empty dictionary to hold the data\n",
    "data = {}\n",
    "\n",
    "# Create 10 columns with different probabilities for 0s and 1s\n",
    "# For some ads, make 1 more probable, for others, make 0 more probable\n",
    "\n",
    "# Define probabilities for each column (e.g., Ad 1 more likely to be 1, Ad 2 more likely to be 0, etc.)\n",
    "probabilities = [\n",
    "    [0.2, 0.8],  # Ad 1: 20% chance of 0, 80% chance of 1\n",
    "    [0.7, 0.3],  # Ad 2: 70% chance of 0, 30% chance of 1\n",
    "    [0.4, 0.6],  # Ad 3: 40% chance of 0, 60% chance of 1\n",
    "    [0.8, 0.2],  # Ad 4: 80% chance of 0, 20% chance of 1\n",
    "    [0.3, 0.7],  # Ad 5: 30% chance of 0, 70% chance of 1\n",
    "    [0.6, 0.4],  # Ad 6: 60% chance of 0, 40% chance of 1\n",
    "    [0.1, 0.9],  # Ad 7: 10% chance of 0, 90% chance of 1\n",
    "    [0.9, 0.1],  # Ad 8: 90% chance of 0, 10% chance of 1\n",
    "    [0.5, 0.5],  # Ad 9: 50% chance of 0, 50% chance of 1 (random)\n",
    "    [0.2, 0.8]   # Ad 10: 20% chance of 0, 80% chance of 1\n",
    "]\n",
    "\n",
    "# Generate data for each column based on the specified probabilities\n",
    "for i, prob in enumerate(probabilities):\n",
    "    data[f'Ad {i+1}'] = np.random.choice([0, 1], size=2500, p=prob)\n",
    "\n",
    "# Create the DataFrame\n",
    "df = pd.DataFrame(data)\n",
    "\n",
    "# Display the first few rows\n",
    "print(df.head())\n",
    "\n",
    "# Optionally save to a CSV\n",
    "# df.to_csv('ads_dataset_weighted.csv', index=False)\n"
   ]
  },
  {
   "cell_type": "code",
   "execution_count": 20,
   "id": "84edfef3",
   "metadata": {},
   "outputs": [
    {
     "data": {
      "text/html": [
       "<div>\n",
       "<style scoped>\n",
       "    .dataframe tbody tr th:only-of-type {\n",
       "        vertical-align: middle;\n",
       "    }\n",
       "\n",
       "    .dataframe tbody tr th {\n",
       "        vertical-align: top;\n",
       "    }\n",
       "\n",
       "    .dataframe thead th {\n",
       "        text-align: right;\n",
       "    }\n",
       "</style>\n",
       "<table border=\"1\" class=\"dataframe\">\n",
       "  <thead>\n",
       "    <tr style=\"text-align: right;\">\n",
       "      <th></th>\n",
       "      <th>Ad 1</th>\n",
       "      <th>Ad 2</th>\n",
       "      <th>Ad 3</th>\n",
       "      <th>Ad 4</th>\n",
       "      <th>Ad 5</th>\n",
       "      <th>Ad 6</th>\n",
       "      <th>Ad 7</th>\n",
       "      <th>Ad 8</th>\n",
       "      <th>Ad 9</th>\n",
       "      <th>Ad 10</th>\n",
       "    </tr>\n",
       "  </thead>\n",
       "  <tbody>\n",
       "    <tr>\n",
       "      <th>0</th>\n",
       "      <td>1</td>\n",
       "      <td>1</td>\n",
       "      <td>1</td>\n",
       "      <td>0</td>\n",
       "      <td>0</td>\n",
       "      <td>1</td>\n",
       "      <td>1</td>\n",
       "      <td>0</td>\n",
       "      <td>1</td>\n",
       "      <td>1</td>\n",
       "    </tr>\n",
       "    <tr>\n",
       "      <th>1</th>\n",
       "      <td>1</td>\n",
       "      <td>0</td>\n",
       "      <td>1</td>\n",
       "      <td>0</td>\n",
       "      <td>1</td>\n",
       "      <td>0</td>\n",
       "      <td>1</td>\n",
       "      <td>0</td>\n",
       "      <td>1</td>\n",
       "      <td>1</td>\n",
       "    </tr>\n",
       "    <tr>\n",
       "      <th>2</th>\n",
       "      <td>1</td>\n",
       "      <td>0</td>\n",
       "      <td>0</td>\n",
       "      <td>0</td>\n",
       "      <td>1</td>\n",
       "      <td>0</td>\n",
       "      <td>1</td>\n",
       "      <td>0</td>\n",
       "      <td>0</td>\n",
       "      <td>1</td>\n",
       "    </tr>\n",
       "    <tr>\n",
       "      <th>3</th>\n",
       "      <td>1</td>\n",
       "      <td>0</td>\n",
       "      <td>1</td>\n",
       "      <td>0</td>\n",
       "      <td>0</td>\n",
       "      <td>1</td>\n",
       "      <td>0</td>\n",
       "      <td>0</td>\n",
       "      <td>0</td>\n",
       "      <td>1</td>\n",
       "    </tr>\n",
       "    <tr>\n",
       "      <th>4</th>\n",
       "      <td>1</td>\n",
       "      <td>0</td>\n",
       "      <td>1</td>\n",
       "      <td>0</td>\n",
       "      <td>1</td>\n",
       "      <td>0</td>\n",
       "      <td>1</td>\n",
       "      <td>1</td>\n",
       "      <td>1</td>\n",
       "      <td>1</td>\n",
       "    </tr>\n",
       "    <tr>\n",
       "      <th>5</th>\n",
       "      <td>0</td>\n",
       "      <td>1</td>\n",
       "      <td>1</td>\n",
       "      <td>0</td>\n",
       "      <td>0</td>\n",
       "      <td>0</td>\n",
       "      <td>1</td>\n",
       "      <td>0</td>\n",
       "      <td>0</td>\n",
       "      <td>1</td>\n",
       "    </tr>\n",
       "    <tr>\n",
       "      <th>6</th>\n",
       "      <td>0</td>\n",
       "      <td>0</td>\n",
       "      <td>1</td>\n",
       "      <td>0</td>\n",
       "      <td>1</td>\n",
       "      <td>0</td>\n",
       "      <td>1</td>\n",
       "      <td>0</td>\n",
       "      <td>1</td>\n",
       "      <td>1</td>\n",
       "    </tr>\n",
       "    <tr>\n",
       "      <th>7</th>\n",
       "      <td>0</td>\n",
       "      <td>0</td>\n",
       "      <td>0</td>\n",
       "      <td>0</td>\n",
       "      <td>1</td>\n",
       "      <td>0</td>\n",
       "      <td>1</td>\n",
       "      <td>0</td>\n",
       "      <td>1</td>\n",
       "      <td>0</td>\n",
       "    </tr>\n",
       "  </tbody>\n",
       "</table>\n",
       "</div>"
      ],
      "text/plain": [
       "   Ad 1  Ad 2  Ad 3  Ad 4  Ad 5  Ad 6  Ad 7  Ad 8  Ad 9  Ad 10\n",
       "0     1     1     1     0     0     1     1     0     1      1\n",
       "1     1     0     1     0     1     0     1     0     1      1\n",
       "2     1     0     0     0     1     0     1     0     0      1\n",
       "3     1     0     1     0     0     1     0     0     0      1\n",
       "4     1     0     1     0     1     0     1     1     1      1\n",
       "5     0     1     1     0     0     0     1     0     0      1\n",
       "6     0     0     1     0     1     0     1     0     1      1\n",
       "7     0     0     0     0     1     0     1     0     1      0"
      ]
     },
     "execution_count": 20,
     "metadata": {},
     "output_type": "execute_result"
    }
   ],
   "source": [
    "df.head(8)"
   ]
  },
  {
   "cell_type": "code",
   "execution_count": 21,
   "id": "b91d5a7c",
   "metadata": {},
   "outputs": [],
   "source": [
    "import matplotlib.pyplot as plt\n",
    "import seaborn as sns"
   ]
  },
  {
   "cell_type": "code",
   "execution_count": 22,
   "id": "9f9c3314",
   "metadata": {},
   "outputs": [
    {
     "data": {
      "image/png": "[encoded data removed]",
      "text/plain": [
       "<Figure size 640x480 with 1 Axes>"
      ]
     },
     "metadata": {},
     "output_type": "display_data"
    }
   ],
   "source": [
    "sns.countplot(x=\"Ad 3\",data=df)\n",
    "plt.show()"
   ]
  },
  {
   "cell_type": "code",
   "execution_count": 23,
   "id": "fa586154",
   "metadata": {
    "scrolled": true
   },
   "outputs": [
    {
     "data": {
      "image/png": "[encoded data removed]",
      "text/plain": [
       "<Figure size 640x480 with 1 Axes>"
      ]
     },
     "metadata": {},
     "output_type": "display_data"
    }
   ],
   "source": [
    "sns.countplot(x=\"Ad 5\",data=df)\n",
    "plt.show()"
   ]
  },
  {
   "cell_type": "markdown",
   "id": "25182574",
   "metadata": {},
   "source": [
    "# Upper Confidence Bound Algorithm"
   ]
  },
  {
   "cell_type": "code",
   "execution_count": 24,
   "id": "b4ae4bb6",
   "metadata": {},
   "outputs": [],
   "source": [
    "N_rounds = 2500  # Number of rounds (rows in dataset)\n",
    "n_ads = 10       # Number of ads (columns in dataset)\n",
    "chosen_ads = []\n",
    "n_times_selected = [0] * n_ads\n",
    "sums_of_rewards = [0] * n_ads\n",
    "total_reward = 0"
   ]
  },
  {
   "cell_type": "code",
   "execution_count": 27,
   "id": "44e04f1f",
   "metadata": {},
   "outputs": [],
   "source": [
    "import math\n",
    "\n",
    "for round_num in range(0, N_rounds):\n",
    "    chosen_ad = 0\n",
    "    max_upper_bound = 0\n",
    "    \n",
    "    for ad_index in range(0, n_ads):\n",
    "        if (n_times_selected[ad_index] > 0):\n",
    "            avg_reward = sums_of_rewards[ad_index] / n_times_selected[ad_index]\n",
    "            confidence_interval = math.sqrt(3/2 * math.log(round_num + 1) / \n",
    "                                            n_times_selected[ad_index])\n",
    "            upper_bound = avg_reward + confidence_interval\n",
    "        else:\n",
    "            upper_bound = 1e400  \n",
    "            # Assigning a very large number to ensure unselected ads are prioritized\n",
    "        if (upper_bound > max_upper_bound):\n",
    "            max_upper_bound = upper_bound\n",
    "            chosen_ad = ad_index  \n",
    "            # Change 'ad = i' to 'ad_index' to ensure correct ad selection\n",
    "\n",
    "    # Update selected ad list and reward trackers\n",
    "    chosen_ads.append(chosen_ad)\n",
    "    n_times_selected[chosen_ad] += 1\n",
    "\n",
    "    # Simulate reward: You will replace this with actual reward in practice\n",
    "    reward = df.values[round_num,chosen_ad]  \n",
    "    # 1 or 0 based on your reward mechanism (could be from a dataset)\n",
    "    \n",
    "    sums_of_rewards[chosen_ad] += reward\n",
    "    total_reward += reward"
   ]
  },
  {
   "cell_type": "code",
   "execution_count": 28,
   "id": "a206b7fc",
   "metadata": {},
   "outputs": [
    {
     "data": {
      "image/png": "[encoded data removed]",
      "text/plain": [
       "<Figure size 1000x600 with 1 Axes>"
      ]
     },
     "metadata": {},
     "output_type": "display_data"
    }
   ],
   "source": [
    "# Plot a histogram of the chosen ads\n",
    "plt.figure(figsize=(10,6))\n",
    "sns.histplot(chosen_ads, bins=n_ads, kde=False, color='blue')\n",
    "\n",
    "# Customize the plot\n",
    "plt.title('Histogram of Ad Selections')\n",
    "plt.xlabel('Ad Index')\n",
    "plt.ylabel('Number of Selections')\n",
    "plt.xticks(range(n_ads))  # Ensures ticks for each ad index\n",
    "plt.show()"
   ]
  },
  {
   "cell_type": "markdown",
   "id": "dd3f9c01",
   "metadata": {},
   "source": [
    "# Thompson Sampling"
   ]
  },
  {
   "cell_type": "code",
   "execution_count": 35,
   "id": "88b639f1",
   "metadata": {},
   "outputs": [],
   "source": [
    "import random\n",
    "\n",
    "# Parameters\n",
    "N_rounds = 2500  # Number of rounds\n",
    "n_ads = 10        # Number of ads\n",
    "ads_selected = []\n",
    "rewards_for_1 = [0] * n_ads  \n",
    "# Number of times reward 1 (clicked) received for each ad\n",
    "rewards_for_0 = [0] * n_ads  \n",
    "# Number of times reward 0 (not clicked) received for each ad\n",
    "total_reward = 0"
   ]
  },
  {
   "cell_type": "code",
   "execution_count": 32,
   "id": "8c495b32",
   "metadata": {},
   "outputs": [],
   "source": [
    "# Loop over each round (N_rounds represents total rounds)\n",
    "for round_num in range(0, N_rounds):\n",
    "    selected_ad = 0\n",
    "    max_random_draw = 0\n",
    "    \n",
    "    # Loop over each ad to select the ad with the highest random distribution\n",
    "    for ad_index in range(0, n_ads):\n",
    "        # Draw from the beta distribution based on the number of rewards for ad\n",
    "        random_beta = random.betavariate(rewards_for_1[ad_index] + 1, \n",
    "                                         rewards_for_0[ad_index] + 1)\n",
    "        \n",
    "        # Select the ad with the highest random beta draw\n",
    "        if random_beta > max_random_draw:\n",
    "            max_random_draw = random_beta\n",
    "            selected_ad = ad_index\n",
    "    \n",
    "    # Append the selected ad to the list of ads chosen\n",
    "    ads_selected.append(selected_ad)\n",
    "    \n",
    "    # Simulate the reward: Replace 'dataset.values' with your actual reward data\n",
    "    reward = df.values[round_num, selected_ad]  \n",
    "    \n",
    "    # Update the reward counts based on the outcome (1 or 0)\n",
    "    if reward == 1:\n",
    "        rewards_for_1[selected_ad] += 1\n",
    "    else:\n",
    "        rewards_for_0[selected_ad] += 1\n",
    "    \n",
    "    # Update the total reward\n",
    "    total_reward += reward\n"
   ]
  },
  {
   "cell_type": "code",
   "execution_count": 33,
   "id": "e4883529",
   "metadata": {},
   "outputs": [
    {
     "data": {
      "image/png": "[encoded data removed]",
      "text/plain": [
       "<Figure size 1000x600 with 1 Axes>"
      ]
     },
     "metadata": {},
     "output_type": "display_data"
    }
   ],
   "source": [
    "# Plot a histogram of the selected ads\n",
    "plt.figure(figsize=(10, 6))\n",
    "sns.histplot(ads_selected, bins=n_ads, kde=False, color='blue')\n",
    "\n",
    "# Customize the plot\n",
    "plt.title('Histogram of Selected Ads')\n",
    "plt.xlabel('Ad Index')\n",
    "plt.ylabel('Number of Selections')\n",
    "plt.xticks(range(n_ads))  # Ensure ticks for each ad index\n",
    "plt.show()"
   ]
  },
  {
   "cell_type": "code",
   "execution_count": null,
   "id": "32dc8dce",
   "metadata": {},
   "outputs": [],
   "source": []
  }
 ],
 "metadata": {
  "kernelspec": {
   "display_name": "Python 3 (ipykernel)",
   "language": "python",
   "name": "python3"
  },
  "language_info": {
   "codemirror_mode": {
    "name": "ipython",
    "version": 3
   },
   "file_extension": ".py",
   "mimetype": "text/x-python",
   "name": "python",
   "nbconvert_exporter": "python",
   "pygments_lexer": "ipython3",
   "version": "3.11.3"
  }
 },
 "nbformat": 4,
 "nbformat_minor": 5
}
