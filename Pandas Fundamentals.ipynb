{
 "cells": [
  {
   "cell_type": "code",
   "execution_count": 40,
   "id": "f4c1d120",
   "metadata": {},
   "outputs": [
    {
     "name": "stdout",
     "output_type": "stream",
     "text": [
      "a     20\n",
      "b     30\n",
      "33    40\n",
      "d     55\n",
      "dtype: int64\n"
     ]
    }
   ],
   "source": [
    "import pandas as pd\n",
    "import numpy as np\n",
    "\n",
    "# A list of numbers\n",
    "nums = [20, 30, 40, 55]\n",
    "\n",
    "# A list with mixed data types (integers and strings)\n",
    "letters = [\"a\", \"b\", 33, \"d\"]\n",
    "\n",
    "# A dictionary with keys and values\n",
    "dictt = {\"a\": 33, \"z\": 11, \"q\": 49}\n",
    "\n",
    "# Generating 9 random integers between 10 and 100 using NumPy\n",
    "rannum = np.random.randint(10, 100, 9)\n",
    "\n",
    "# Creating a Pandas Series with `nums` as data and `letters` as index\n",
    "pandas_series = pd.Series(nums, letters)\n",
    "print(pandas_series)\n",
    "\n",
    "import warnings\n",
    "warnings.filterwarnings(\"ignore\")"
   ]
  },
  {
   "cell_type": "code",
   "execution_count": 2,
   "id": "ac133a3a",
   "metadata": {},
   "outputs": [
    {
     "name": "stdout",
     "output_type": "stream",
     "text": [
      "a    20\n",
      "b    30\n",
      "dtype: int64\n"
     ]
    }
   ],
   "source": [
    "# Slicing the first two elements of the Pandas Series `pandas_series`\n",
    "print(pandas_series[0:2])"
   ]
  },
  {
   "cell_type": "code",
   "execution_count": 3,
   "id": "0d4b89fe",
   "metadata": {},
   "outputs": [
    {
     "name": "stdout",
     "output_type": "stream",
     "text": [
      "d     55\n",
      "33    40\n",
      "b     30\n",
      "a     20\n",
      "dtype: int64\n"
     ]
    }
   ],
   "source": [
    "# Reversing the order of the elements in the Pandas Series `pandas_series`\n",
    "print(pandas_series[::-1])"
   ]
  },
  {
   "cell_type": "code",
   "execution_count": 4,
   "id": "67f660ea",
   "metadata": {},
   "outputs": [
    {
     "name": "stdout",
     "output_type": "stream",
     "text": [
      "1\n"
     ]
    }
   ],
   "source": [
    "# Print the number of dimensions of the Pandas Series \n",
    "# (it will be 1, because it's a 1-dimensional array)\n",
    "print(pandas_series.ndim)"
   ]
  },
  {
   "cell_type": "code",
   "execution_count": 5,
   "id": "a240145e",
   "metadata": {},
   "outputs": [
    {
     "name": "stdout",
     "output_type": "stream",
     "text": [
      "145\n"
     ]
    }
   ],
   "source": [
    "# Calculate and print the sum of the elements in the Series\n",
    "print(pandas_series.sum())  # You can also use max(), min(), etc."
   ]
  },
  {
   "cell_type": "code",
   "execution_count": 6,
   "id": "04d746fa",
   "metadata": {},
   "outputs": [
    {
     "name": "stdout",
     "output_type": "stream",
     "text": [
      "a      40\n",
      "b      60\n",
      "33     80\n",
      "d     110\n",
      "dtype: int64\n"
     ]
    }
   ],
   "source": [
    "# Add the Series to itself (element-wise addition)\n",
    "print(pandas_series + pandas_series)"
   ]
  },
  {
   "cell_type": "code",
   "execution_count": 7,
   "id": "a6b375d1",
   "metadata": {},
   "outputs": [
    {
     "name": "stdout",
     "output_type": "stream",
     "text": [
      "a      400\n",
      "b      900\n",
      "33    1600\n",
      "d     3025\n",
      "dtype: int64\n"
     ]
    }
   ],
   "source": [
    "# Square each element of the Series\n",
    "print(pandas_series ** 2)"
   ]
  },
  {
   "cell_type": "code",
   "execution_count": 8,
   "id": "148b39b3",
   "metadata": {},
   "outputs": [
    {
     "name": "stdout",
     "output_type": "stream",
     "text": [
      "a     False\n",
      "b     False\n",
      "33    False\n",
      "d      True\n",
      "dtype: bool\n"
     ]
    }
   ],
   "source": [
    "# Check if each element in the Series is greater than or equal to 44\n",
    "print(pandas_series >= 44)"
   ]
  },
  {
   "cell_type": "code",
   "execution_count": 9,
   "id": "bab4380a",
   "metadata": {},
   "outputs": [
    {
     "name": "stdout",
     "output_type": "stream",
     "text": [
      "0    5\n",
      "1    5\n",
      "2    5\n",
      "3    5\n",
      "dtype: int64\n"
     ]
    }
   ],
   "source": [
    "# Creating a Pandas Series with scalar value 5 and custom indices [0,1,2,3]\n",
    "pan_ser = pd.Series(5, [0, 1, 2, 3])\n",
    "print(pan_ser)"
   ]
  },
  {
   "cell_type": "code",
   "execution_count": 10,
   "id": "2948576a",
   "metadata": {},
   "outputs": [
    {
     "name": "stdout",
     "output_type": "stream",
     "text": [
      "a    33\n",
      "z    11\n",
      "q    49\n",
      "dtype: int64\n"
     ]
    }
   ],
   "source": [
    "# Creating a Pandas Series from a dictionary (`dictt`), \n",
    "# where the keys are used as index and values as data\n",
    "pan_dic = pd.Series(dictt)\n",
    "print(pan_dic)"
   ]
  },
  {
   "cell_type": "code",
   "execution_count": 11,
   "id": "0f42ce06",
   "metadata": {},
   "outputs": [
    {
     "name": "stdout",
     "output_type": "stream",
     "text": [
      "0    56\n",
      "1    31\n",
      "2    61\n",
      "3    30\n",
      "4    63\n",
      "5    76\n",
      "6    14\n",
      "7    89\n",
      "8    97\n",
      "dtype: int32\n"
     ]
    }
   ],
   "source": [
    "# Creating a Pandas Series from random numbers generated by NumPy\n",
    "randpan = pd.Series(rannum)\n",
    "print(randpan)"
   ]
  },
  {
   "cell_type": "code",
   "execution_count": 12,
   "id": "1a6ba5f1",
   "metadata": {},
   "outputs": [
    {
     "name": "stdout",
     "output_type": "stream",
     "text": [
      "model1    38.0\n",
      "model2    52.0\n",
      "model2    61.0\n",
      "model3    31.0\n",
      "model4     NaN\n",
      "dtype: float64\n"
     ]
    }
   ],
   "source": [
    "# Creating two Pandas Series representing the sales of Ford cars \n",
    "ford2023 = pd.Series([14, 23, 32, 19], [\"model1\", \"model2\", \n",
    "                                        \"model2\", \"model3\"])\n",
    "ford2024 = pd.Series([24, 29, 12, 29], [\"model1\", \"model2\", \n",
    "                                        \"model3\", \"model4\"])\n",
    "\n",
    "# Adding the two Series together \n",
    "#(it will add elements with matching index labels)\n",
    "print(ford2023 + ford2024)"
   ]
  },
  {
   "cell_type": "code",
   "execution_count": 13,
   "id": "489472b5",
   "metadata": {},
   "outputs": [
    {
     "name": "stdout",
     "output_type": "stream",
     "text": [
      "   grapes  toys  snacks\n",
      "0      21    23      13\n",
      "1      32    43      13\n",
      "2      34    22      32\n",
      "3      22    11      41\n"
     ]
    }
   ],
   "source": [
    "# Create three Pandas Series\n",
    "s1 = pd.Series([21, 32, 34, 22])\n",
    "s2 = pd.Series([23, 43, 22, 11])\n",
    "s3 = pd.Series([13, 13, 32, 41])\n",
    "\n",
    "# Create a dictionary where each key corresponds to a Series\n",
    "data = dict(grapes=s1, toys=s2, snacks=s3)\n",
    "\n",
    "# Create a DataFrame using the dictionary\n",
    "df = pd.DataFrame(data)\n",
    "print(df) "
   ]
  },
  {
   "cell_type": "code",
   "execution_count": 14,
   "id": "3427d0d0",
   "metadata": {},
   "outputs": [
    {
     "name": "stdout",
     "output_type": "stream",
     "text": [
      "       0   1\n",
      "0   Jack  33\n",
      "1   John  23\n",
      "2  Jacob  83\n",
      "3  Jerry  93\n"
     ]
    }
   ],
   "source": [
    "# Create a simple DataFrame with a list of lists\n",
    "df2 = pd.DataFrame([[\"Jack\", 33], [\"John\", 23], \n",
    "                    [\"Jacob\", 83], [\"Jerry\", 93]])\n",
    "print(df2)"
   ]
  },
  {
   "cell_type": "code",
   "execution_count": 15,
   "id": "93e6bba0",
   "metadata": {},
   "outputs": [
    {
     "name": "stdout",
     "output_type": "stream",
     "text": [
      "   Num1  Num2\n",
      "2  33.0  22.0\n",
      "3  11.0  44.0\n",
      "4  55.0  88.0\n"
     ]
    }
   ],
   "source": [
    "# Create a DataFrame using a list of lists, specify column names and index\n",
    "dataaa = [[33, 22], [11, 44], [55, 88]]\n",
    "df3 = pd.DataFrame(dataaa, columns=[\"Num1\", \"Num2\"], \n",
    "                   index=[2, 3, 4], dtype=float)\n",
    "print(df3)"
   ]
  },
  {
   "cell_type": "code",
   "execution_count": 16,
   "id": "29d8507c",
   "metadata": {},
   "outputs": [],
   "source": [
    "# Create a DataFrame using a dictionary, \n",
    "# where 'Names' and 'Grades' are the keys\n",
    "dictt = {\"Names\": [\"Jack\", \"John\", \"Jacob\", \"Jerry\"],\n",
    "         \"Grades\": [23, 34, 45, 55]}"
   ]
  },
  {
   "cell_type": "code",
   "execution_count": 17,
   "id": "ee1a4551",
   "metadata": {},
   "outputs": [
    {
     "name": "stdout",
     "output_type": "stream",
     "text": [
      "     Names  Grades\n",
      "222   Jack      23\n",
      "333   John      34\n",
      "444  Jacob      45\n",
      "555  Jerry      55\n"
     ]
    }
   ],
   "source": [
    "# Create a DataFrame with a custom index using the dictionary\n",
    "df4 = pd.DataFrame(dictt, index=[\"222\", \"333\", \"444\", \"555\"])\n",
    "print(df4)"
   ]
  },
  {
   "cell_type": "code",
   "execution_count": 18,
   "id": "70f5e871",
   "metadata": {},
   "outputs": [
    {
     "name": "stdout",
     "output_type": "stream",
     "text": [
      "       Col1      col2      col3\n",
      "A -0.958110 -0.501303  0.242829\n",
      "B  0.849789 -0.351419 -0.315132\n",
      "C  0.813042  1.976447 -0.350192\n"
     ]
    }
   ],
   "source": [
    "from numpy.random import randn\n",
    "\n",
    "# Create a DataFrame with random values from a normal distribution\n",
    "# The DataFrame has 3 rows labeled 'A', 'B', 'C' and 3 columns \n",
    "df = pd.DataFrame(randn(3, 3), \n",
    "                  index=[\"A\", \"B\", \"C\"],\n",
    "                  columns=[\"Col1\", \"col2\", \"col3\"])\n",
    "print(df)"
   ]
  },
  {
   "cell_type": "code",
   "execution_count": 19,
   "id": "c8e57b04",
   "metadata": {},
   "outputs": [
    {
     "name": "stdout",
     "output_type": "stream",
     "text": [
      "A   -0.501303\n",
      "B   -0.351419\n",
      "C    1.976447\n",
      "Name: col2, dtype: float64\n"
     ]
    }
   ],
   "source": [
    "# Select the 'col2' column from the DataFrame\n",
    "print(df[\"col2\"])"
   ]
  },
  {
   "cell_type": "code",
   "execution_count": 20,
   "id": "e6b8e0fa",
   "metadata": {},
   "outputs": [
    {
     "name": "stdout",
     "output_type": "stream",
     "text": [
      "       col2      col3\n",
      "A -0.501303  0.242829\n",
      "B -0.351419 -0.315132\n",
      "C  1.976447 -0.350192\n"
     ]
    }
   ],
   "source": [
    "# Select multiple columns ('col2' and 'col3') from the DataFrame\n",
    "print(df[[\"col2\", \"col3\"]])"
   ]
  },
  {
   "cell_type": "code",
   "execution_count": 21,
   "id": "38f3738c",
   "metadata": {},
   "outputs": [
    {
     "name": "stdout",
     "output_type": "stream",
     "text": [
      "Col1   -0.958110\n",
      "col2   -0.501303\n",
      "col3    0.242829\n",
      "Name: A, dtype: float64\n"
     ]
    }
   ],
   "source": [
    "# Select all values in row 'A' using .loc (label-based indexing)\n",
    "print(df.loc[\"A\"])"
   ]
  },
  {
   "cell_type": "code",
   "execution_count": 22,
   "id": "6704e82b",
   "metadata": {},
   "outputs": [
    {
     "name": "stdout",
     "output_type": "stream",
     "text": [
      "       Col1      col2\n",
      "A -0.958110 -0.501303\n",
      "B  0.849789 -0.351419\n"
     ]
    }
   ],
   "source": [
    "# Select a range of rows and columns using .loc (label-based indexing)\n",
    "# Selecting rows 'A' to 'B' and columns 'Col1' to 'col2'\n",
    "print(df.loc[\"A\":\"B\", \"Col1\":\"col2\"])"
   ]
  },
  {
   "cell_type": "code",
   "execution_count": 23,
   "id": "7cf23f65",
   "metadata": {},
   "outputs": [
    {
     "name": "stdout",
     "output_type": "stream",
     "text": [
      "Col1    0.849789\n",
      "col2   -0.351419\n",
      "col3   -0.315132\n",
      "Name: B, dtype: float64\n"
     ]
    }
   ],
   "source": [
    "# Select the second row using .iloc (integer-based indexing)\n",
    "print(df.iloc[1])"
   ]
  },
  {
   "cell_type": "code",
   "execution_count": 24,
   "id": "65e71d3b",
   "metadata": {},
   "outputs": [],
   "source": [
    "# Create a new column 'Col4' with random values and add it to the DataFrame\n",
    "df[\"Col4\"] = pd.Series(randn(3), index=[\"A\", \"B\", \"C\"])"
   ]
  },
  {
   "cell_type": "code",
   "execution_count": 25,
   "id": "1e64881a",
   "metadata": {},
   "outputs": [
    {
     "name": "stdout",
     "output_type": "stream",
     "text": [
      "       Col1      col2      col3      Col4      Col5\n",
      "A -0.958110 -0.501303  0.242829  1.378398 -0.715281\n",
      "B  0.849789 -0.351419 -0.315132 -0.742886  0.534656\n",
      "C  0.813042  1.976447 -0.350192 -0.503846  0.462850\n"
     ]
    }
   ],
   "source": [
    "# Create another column 'Col5' that is the sum of 'Col1' and 'col3'\n",
    "df[\"Col5\"] = df[\"Col1\"] + df[\"col3\"]\n",
    "print(df)"
   ]
  },
  {
   "cell_type": "code",
   "execution_count": 26,
   "id": "e402dc3e",
   "metadata": {},
   "outputs": [
    {
     "name": "stdout",
     "output_type": "stream",
     "text": [
      "       Col1      col3      Col4      Col5\n",
      "A -0.958110  0.242829  1.378398 -0.715281\n",
      "B  0.849789 -0.315132 -0.742886  0.534656\n",
      "C  0.813042 -0.350192 -0.503846  0.462850\n"
     ]
    }
   ],
   "source": [
    "# Drop the 'col2' column from the DataFrame\n",
    "# axis=1 means dropping columns (axis=0 would drop rows)\n",
    "# By default, the original DataFrame is not modified (inplace=False)\n",
    "print(df.drop(\"col2\", axis=1))\n",
    "\n",
    "# To update the original DataFrame permanently, you can use inplace=True\n",
    "# df.drop(\"col2\", axis=1, inplace=True)"
   ]
  },
  {
   "cell_type": "code",
   "execution_count": 27,
   "id": "166e6d89",
   "metadata": {},
   "outputs": [
    {
     "name": "stdout",
     "output_type": "stream",
     "text": [
      "  employees Department  age  salary\n",
      "0      john         HR   33    4000\n",
      "1      jake         IT   22    3400\n",
      "2     lindy         HR   44    2900\n",
      "3   charlie         IT   33    4900\n",
      "4   madison         BT   44    2200\n",
      "5  vivienne         BT   44    4700\n"
     ]
    }
   ],
   "source": [
    "# Create a dictionary to represent employees' information\n",
    "employees = {\n",
    "    \"employees\": [\"john\", \"jake\", \"lindy\", \n",
    "                  \"charlie\", \"madison\", \"vivienne\"],\n",
    "    \"Department\": [\"HR\", \"IT\", \"HR\", \"IT\", \"BT\", \"BT\"],\n",
    "    \"age\": [33, 22, 44, 33, 44, 44],\n",
    "    \"salary\": [4000, 3400, 2900, 4900, 2200, 4700]\n",
    "}\n",
    "\n",
    "# Convert the dictionary into a pandas DataFrame\n",
    "df = pd.DataFrame(employees)\n",
    "print(df)"
   ]
  },
  {
   "cell_type": "code",
   "execution_count": 28,
   "id": "84286a6c",
   "metadata": {},
   "outputs": [
    {
     "name": "stdout",
     "output_type": "stream",
     "text": [
      "22100\n"
     ]
    }
   ],
   "source": [
    "# Calculate the total salary of all employees\n",
    "summ = df[\"salary\"].sum()\n",
    "print(summ)"
   ]
  },
  {
   "cell_type": "code",
   "execution_count": 33,
   "id": "01ef937a",
   "metadata": {},
   "outputs": [
    {
     "name": "stdout",
     "output_type": "stream",
     "text": [
      "{'BT': [4, 5], 'HR': [0, 2], 'IT': [1, 3]}\n"
     ]
    }
   ],
   "source": [
    "# Group the DataFrame by the \"Departman\" column\n",
    "Depar = df.groupby([\"Department\"]).groups\n",
    "print(Depar)"
   ]
  },
  {
   "cell_type": "code",
   "execution_count": 34,
   "id": "1ba7ff00",
   "metadata": {},
   "outputs": [
    {
     "name": "stdout",
     "output_type": "stream",
     "text": [
      "{('BT', 44): [4, 5], ('HR', 33): [0], ('HR', 44): [2], ('IT', 22): [1], ('IT', 33): [3]}\n"
     ]
    }
   ],
   "source": [
    "# Group the DataFrame by both \"Departman\" and \"age\"\n",
    "# and get the dictionary of their groups (keys are tuples)\n",
    "depandage = df.groupby([\"Department\", \"age\"]).groups\n",
    "print(depandage)"
   ]
  },
  {
   "cell_type": "code",
   "execution_count": 35,
   "id": "49c1453d",
   "metadata": {},
   "outputs": [
    {
     "name": "stdout",
     "output_type": "stream",
     "text": [
      "B\n",
      "T\n",
      "H\n",
      "R\n",
      "I\n",
      "T\n"
     ]
    }
   ],
   "source": [
    "# Iterate over the grouped DataFrame by \"Department\"\n",
    "for name, group in Depar:\n",
    "    print(name)  # Print department name\n",
    "    print(group)  # Print the group (employees in that department)"
   ]
  },
  {
   "cell_type": "code",
   "execution_count": 36,
   "id": "81ff0786",
   "metadata": {},
   "outputs": [
    {
     "name": "stdout",
     "output_type": "stream",
     "text": [
      "  employees Department  age  salary\n",
      "0      john         HR   33    4000\n",
      "2     lindy         HR   44    2900\n"
     ]
    }
   ],
   "source": [
    "# Get and print the group of employees in the \"HR\" department\n",
    "BT = df.groupby(\"Department\").get_group(\"HR\")\n",
    "print(BT)"
   ]
  },
  {
   "cell_type": "code",
   "execution_count": 41,
   "id": "613c24f2",
   "metadata": {},
   "outputs": [
    {
     "name": "stdout",
     "output_type": "stream",
     "text": [
      "            age  salary\n",
      "Department             \n",
      "BT           88    6900\n",
      "HR           77    6900\n",
      "IT           55    8300\n"
     ]
    }
   ],
   "source": [
    "# Perform various aggregation operations on grouped data by \"Departman\"\n",
    "# 1. Sum of the grouped columns\n",
    "SUM = df.groupby(\"Department\").sum()\n",
    "print(SUM)"
   ]
  },
  {
   "cell_type": "code",
   "execution_count": 42,
   "id": "a33aaa3a",
   "metadata": {},
   "outputs": [
    {
     "name": "stdout",
     "output_type": "stream",
     "text": [
      "             age  salary\n",
      "Department              \n",
      "BT          44.0  3450.0\n",
      "HR          38.5  3450.0\n",
      "IT          27.5  4150.0\n"
     ]
    }
   ],
   "source": [
    "# 2. Mean of the grouped columns\n",
    "mean = df.groupby(\"Department\").mean()\n",
    "print(mean)"
   ]
  },
  {
   "cell_type": "code",
   "execution_count": 43,
   "id": "7d53ca77",
   "metadata": {},
   "outputs": [
    {
     "name": "stdout",
     "output_type": "stream",
     "text": [
      "Department\n",
      "BT    6900\n",
      "HR    6900\n",
      "IT    8300\n",
      "Name: salary, dtype: int64\n"
     ]
    }
   ],
   "source": [
    "# 3. Sum of \"Maas\" for each department\n",
    "meanOfsalary = df.groupby(\"Department\")[\"salary\"].sum()\n",
    "print(meanOfsalary)"
   ]
  },
  {
   "cell_type": "code",
   "execution_count": 46,
   "id": "ca7e6411",
   "metadata": {},
   "outputs": [
    {
     "name": "stdout",
     "output_type": "stream",
     "text": [
      "age\n",
      "22    1\n",
      "33    2\n",
      "44    3\n",
      "Name: employees, dtype: int64\n"
     ]
    }
   ],
   "source": [
    "# 4. Count of employees in each \"age\" group\n",
    "countt = df.groupby(\"age\")[\"employees\"].count()\n",
    "print(countt)"
   ]
  },
  {
   "cell_type": "code",
   "execution_count": 47,
   "id": "93f642fa",
   "metadata": {},
   "outputs": [
    {
     "name": "stdout",
     "output_type": "stream",
     "text": [
      "4700\n"
     ]
    }
   ],
   "source": [
    "# 5. Maximum salary in the \"BT\" department\n",
    "Maxx = df.groupby(\"Department\")[\"salary\"].max()[\"BT\"]\n",
    "print(Maxx)"
   ]
  },
  {
   "cell_type": "code",
   "execution_count": 49,
   "id": "52f8d579",
   "metadata": {},
   "outputs": [
    {
     "name": "stdout",
     "output_type": "stream",
     "text": [
      "              mean   sum  amax  amin\n",
      "Department                          \n",
      "BT          3450.0  6900  4700  2200\n",
      "HR          3450.0  6900  4000  2900\n",
      "IT          4150.0  8300  4900  3400\n"
     ]
    }
   ],
   "source": [
    "# 6. Aggregating multiple functions (mean, sum, max, min) for the \"salary\"\n",
    "ALL = df.groupby(\"Department\")[\"salary\"].agg([np.mean, np.sum, \n",
    "                                              np.max, np.min])\n",
    "print(ALL)"
   ]
  },
  {
   "cell_type": "code",
   "execution_count": 50,
   "id": "f56291ef",
   "metadata": {},
   "outputs": [
    {
     "name": "stdout",
     "output_type": "stream",
     "text": [
      "   Col1  Col2  Col3\n",
      "a    36    54    66\n",
      "c    77    80    41\n",
      "e    62    45    32\n",
      "f    37    80    61\n",
      "h    50    75    85\n"
     ]
    }
   ],
   "source": [
    "# Create a random 5x3 integer array with values between 10 and 100\n",
    "data = np.random.randint(10, 100, 15).reshape(5, 3)\n",
    "\n",
    "# Create a DataFrame from 'data' with custom indices and column names\n",
    "df = pd.DataFrame(data, index=[\"a\", \"c\", \"e\", \"f\", \"h\"], \n",
    "                  columns=[\"Col1\", \"Col2\", \"Col3\"])\n",
    "print(df)"
   ]
  },
  {
   "cell_type": "code",
   "execution_count": 51,
   "id": "f0c3e8e1",
   "metadata": {},
   "outputs": [
    {
     "name": "stdout",
     "output_type": "stream",
     "text": [
      "   Col1  Col2  Col3\n",
      "a  36.0  54.0  66.0\n",
      "b   NaN   NaN   NaN\n",
      "c  77.0  80.0  41.0\n",
      "d   NaN   NaN   NaN\n",
      "e  62.0  45.0  32.0\n",
      "f  37.0  80.0  61.0\n",
      "g   NaN   NaN   NaN\n",
      "h  50.0  75.0  85.0\n"
     ]
    }
   ],
   "source": [
    "# Reindex the DataFrame to include missing rows \"b\", \"d\", \"g\"\n",
    "df = df.reindex([\"a\", \"b\", \"c\", \"d\", \"e\", \"f\", \"g\", \"h\"])\n",
    "print(df)  # Print DataFrame after reindexing (NaN will appear for new rows"
   ]
  },
  {
   "cell_type": "code",
   "execution_count": 52,
   "id": "527415da",
   "metadata": {},
   "outputs": [
    {
     "name": "stdout",
     "output_type": "stream",
     "text": [
      "   Col2  Col3\n",
      "a  54.0  66.0\n",
      "b   NaN   NaN\n",
      "c  80.0  41.0\n",
      "d   NaN   NaN\n",
      "e  45.0  32.0\n",
      "f  80.0  61.0\n",
      "g   NaN   NaN\n",
      "h  75.0  85.0\n",
      "   Col1  Col2  Col3\n",
      "b   NaN   NaN   NaN\n",
      "c  77.0  80.0  41.0\n",
      "e  62.0  45.0  32.0\n",
      "f  37.0  80.0  61.0\n",
      "g   NaN   NaN   NaN\n",
      "h  50.0  75.0  85.0\n"
     ]
    }
   ],
   "source": [
    "# Drop the \"Col1\" column from the DataFrame\n",
    "df1 = df.drop(\"Col1\", axis=1)\n",
    "\n",
    "# Drop rows \"a\" and \"d\" from the DataFrame\n",
    "df2 = df.drop([\"a\", \"d\"], axis=0)\n",
    "\n",
    "print(df1)  # Print DataFrame without \"Col1\"\n",
    "print(df2)  # Print DataFrame without rows \"a\" and \"d\""
   ]
  },
  {
   "cell_type": "code",
   "execution_count": 53,
   "id": "eba631ab",
   "metadata": {},
   "outputs": [
    {
     "name": "stdout",
     "output_type": "stream",
     "text": [
      "    Col1   Col2   Col3\n",
      "a  False  False  False\n",
      "b   True   True   True\n",
      "c  False  False  False\n",
      "d   True   True   True\n",
      "e  False  False  False\n",
      "f  False  False  False\n",
      "g   True   True   True\n",
      "h  False  False  False\n"
     ]
    }
   ],
   "source": [
    "# Check for missing values (NaN) in the DataFrame \n",
    "Nan = df.isnull() # (returns a boolean DataFrame)\n",
    "print(Nan)  # Print True for NaN values and False otherwise"
   ]
  },
  {
   "cell_type": "code",
   "execution_count": 54,
   "id": "d512c032",
   "metadata": {},
   "outputs": [
    {
     "name": "stdout",
     "output_type": "stream",
     "text": [
      "Col1    3\n",
      "Col2    3\n",
      "Col3    3\n",
      "dtype: int64\n"
     ]
    }
   ],
   "source": [
    "# Count the number of missing values in each column\n",
    "numNan = df.isnull().sum()\n",
    "print(numNan)  # Print the count of missing values per column"
   ]
  },
  {
   "cell_type": "code",
   "execution_count": 55,
   "id": "0fd2958f",
   "metadata": {},
   "outputs": [
    {
     "name": "stdout",
     "output_type": "stream",
     "text": [
      "   Col1  Col2  Col3  Col4\n",
      "a  36.0  54.0  66.0   NaN\n",
      "b   NaN   NaN   NaN  30.0\n",
      "c  77.0  80.0  41.0   NaN\n",
      "d   NaN   NaN   NaN  49.0\n",
      "e  62.0  45.0  32.0   NaN\n",
      "f  37.0  80.0  61.0  22.0\n",
      "g   NaN   NaN   NaN  11.0\n",
      "h  50.0  75.0  85.0   NaN\n"
     ]
    }
   ],
   "source": [
    "# Create a new column \"Col4\" with some missing values (np.nan)\n",
    "newcoll = [np.nan, 30, np.nan, 49, np.nan, 22, 11, np.nan]\n",
    "df[\"Col4\"] = newcoll\n",
    "print(df)  # Print DataFrame with new \"Col4\""
   ]
  },
  {
   "cell_type": "code",
   "execution_count": 56,
   "id": "ab531fe2",
   "metadata": {},
   "outputs": [
    {
     "name": "stdout",
     "output_type": "stream",
     "text": [
      "   Col1  Col2  Col3  Col4\n",
      "b   NaN   NaN   NaN  30.0\n",
      "d   NaN   NaN   NaN  49.0\n",
      "g   NaN   NaN   NaN  11.0\n"
     ]
    }
   ],
   "source": [
    "# Filter and show rows where \"Col3\" has NaN values\n",
    "nulls = df[df[\"Col3\"].isnull()]\n",
    "print(nulls)  # Print rows where \"Col3\" is NaN"
   ]
  },
  {
   "cell_type": "code",
   "execution_count": 57,
   "id": "36aa12a1",
   "metadata": {},
   "outputs": [
    {
     "name": "stdout",
     "output_type": "stream",
     "text": [
      "   Col1  Col2  Col3  Col4\n",
      "f  37.0  80.0  61.0  22.0\n"
     ]
    }
   ],
   "source": [
    "# Drop rows with any NaN values\n",
    "dropnans = df.dropna()\n",
    "print(dropnans)  # Print DataFrame after dropping all rows with NaN"
   ]
  },
  {
   "cell_type": "code",
   "execution_count": 58,
   "id": "9f8262c7",
   "metadata": {},
   "outputs": [
    {
     "name": "stdout",
     "output_type": "stream",
     "text": [
      "   Col1  Col2  Col3  Col4\n",
      "a  36.0  54.0  66.0   NaN\n",
      "b   NaN   NaN   NaN  30.0\n",
      "c  77.0  80.0  41.0   NaN\n",
      "d   NaN   NaN   NaN  49.0\n",
      "e  62.0  45.0  32.0   NaN\n",
      "f  37.0  80.0  61.0  22.0\n",
      "g   NaN   NaN   NaN  11.0\n",
      "h  50.0  75.0  85.0   NaN\n"
     ]
    }
   ],
   "source": [
    "# Drop rows where \"Col1\" and \"Col4\" are both NaN (how=\"all\")\n",
    "subset1 = df.dropna(subset=[\"Col1\", \"Col4\"], how=\"all\")\n",
    "print(subset1)  \n",
    "# Print DataFrame where rows with both NaN in \"Col1\" and \"Col4\" are dropped"
   ]
  },
  {
   "cell_type": "code",
   "execution_count": 59,
   "id": "086af1ec",
   "metadata": {},
   "outputs": [
    {
     "name": "stdout",
     "output_type": "stream",
     "text": [
      "   Col1  Col2  Col3  Col4\n",
      "f  37.0  80.0  61.0  22.0\n"
     ]
    }
   ],
   "source": [
    "# Drop rows where either \"Col1\" or \"Col4\" is NaN (how=\"any\")\n",
    "subset2 = df.dropna(subset=[\"Col1\", \"Col4\"], how=\"any\")\n",
    "print(subset2)  \n",
    "# Print DataFrame where rows with NaN in either \"Col1\" or \"Col4\" are dropped"
   ]
  },
  {
   "cell_type": "code",
   "execution_count": 60,
   "id": "bb89cf8d",
   "metadata": {},
   "outputs": [
    {
     "name": "stdout",
     "output_type": "stream",
     "text": [
      "   Col1  Col2  Col3  Col4\n",
      "a  36.0  54.0  66.0   NaN\n",
      "c  77.0  80.0  41.0   NaN\n",
      "e  62.0  45.0  32.0   NaN\n",
      "f  37.0  80.0  61.0  22.0\n",
      "h  50.0  75.0  85.0   NaN\n"
     ]
    }
   ],
   "source": [
    "# Drop rows that have fewer than 3 non-NaN values\n",
    "thresh = df.dropna(thresh=3)\n",
    "print(thresh)  # Print DataFrame after applying threshold"
   ]
  },
  {
   "cell_type": "code",
   "execution_count": 61,
   "id": "3f9a7193",
   "metadata": {},
   "outputs": [
    {
     "name": "stdout",
     "output_type": "stream",
     "text": [
      "       Col1      Col2      Col3      Col4\n",
      "a      36.0      54.0      66.0  No input\n",
      "b  No input  No input  No input      30.0\n",
      "c      77.0      80.0      41.0  No input\n",
      "d  No input  No input  No input      49.0\n",
      "e      62.0      45.0      32.0  No input\n",
      "f      37.0      80.0      61.0      22.0\n",
      "g  No input  No input  No input      11.0\n",
      "h      50.0      75.0      85.0  No input\n"
     ]
    }
   ],
   "source": [
    "# Fill NaN values with \"No input\"\n",
    "fillna = df.fillna(value=\"No input\")\n",
    "print(fillna)  # Print DataFrame with NaN replaced by \"No input\""
   ]
  },
  {
   "cell_type": "code",
   "execution_count": 62,
   "id": "c6712984",
   "metadata": {},
   "outputs": [
    {
     "name": "stdout",
     "output_type": "stream",
     "text": [
      "   Col1  Col2  Col3  Col4\n",
      "a  36.0  54.0  66.0   0.0\n",
      "b   0.0   0.0   0.0  30.0\n",
      "c  77.0  80.0  41.0   0.0\n",
      "d   0.0   0.0   0.0  49.0\n",
      "e  62.0  45.0  32.0   0.0\n",
      "f  37.0  80.0  61.0  22.0\n",
      "g   0.0   0.0   0.0  11.0\n",
      "h  50.0  75.0  85.0   0.0\n"
     ]
    }
   ],
   "source": [
    "# Fill NaN values with 0\n",
    "fillna2 = df.fillna(value=0)\n",
    "print(fillna2)  # Print DataFrame with NaN replaced by 0"
   ]
  },
  {
   "cell_type": "code",
   "execution_count": 63,
   "id": "2c02141b",
   "metadata": {},
   "outputs": [
    {
     "name": "stdout",
     "output_type": "stream",
     "text": [
      "        Col1       Col2       Col3       Col4\n",
      "a  36.000000  54.000000  66.000000  52.263158\n",
      "b  52.263158  52.263158  52.263158  30.000000\n",
      "c  77.000000  80.000000  41.000000  52.263158\n",
      "d  52.263158  52.263158  52.263158  49.000000\n",
      "e  62.000000  45.000000  32.000000  52.263158\n",
      "f  37.000000  80.000000  61.000000  22.000000\n",
      "g  52.263158  52.263158  52.263158  11.000000\n",
      "h  50.000000  75.000000  85.000000  52.263158\n"
     ]
    }
   ],
   "source": [
    "# Define a function that calculates the mean of non-NaN \n",
    "# values in the DataFrame\n",
    "def mean_fill(df):\n",
    "    total = df.sum().sum()  # Total sum of all elements\n",
    "    size = df.size - df.isnull().sum().sum()  # Count of non-NaN elements\n",
    "    return total / size  # Return the mean\n",
    "\n",
    "# Fill NaN values with the calculated mean of the DataFrame\n",
    "filled_w_mean = df.fillna(value=mean_fill(df))\n",
    "print(filled_w_mean)  # Print DataFrame with NaN replaced by the mean value"
   ]
  },
  {
   "cell_type": "code",
   "execution_count": 64,
   "id": "e2dc8ac3",
   "metadata": {},
   "outputs": [
    {
     "name": "stdout",
     "output_type": "stream",
     "text": [
      "    Col1  Col2  Col3  Col4  Col5\n",
      "0     33    24    54    11    30\n",
      "1     39    75    36    64    80\n",
      "2     49    44    94    40    19\n",
      "3     98    34    60    50    56\n",
      "4     75    27    24    21    97\n",
      "5     51    92    17    14    25\n",
      "6     56    35    63    71    47\n",
      "7     93    36    67    14    13\n",
      "8     20    50    62    75    59\n",
      "9     81    58    43    79    80\n",
      "10    10    61    42    43    32\n",
      "11    57    72    41    18    55\n",
      "12    52    94    48    88    47\n",
      "13    38    81    66    30    43\n",
      "14    28    24    69    73    80\n"
     ]
    }
   ],
   "source": [
    "# Generate a 15x5 matrix of random integers between 10 and 100\n",
    "data = np.random.randint(10, 100, 75).reshape(15, 5)\n",
    "\n",
    "# Create a DataFrame from 'data' with columns \"Col1\", \"Col2\", etc.\n",
    "df = pd.DataFrame(data, columns=[\"Col1\", \"Col2\", \"Col3\", \"Col4\", \"Col5\"])\n",
    "\n",
    "# Print the entire DataFrame\n",
    "print(df)"
   ]
  },
  {
   "cell_type": "code",
   "execution_count": 65,
   "id": "ac3eb442",
   "metadata": {},
   "outputs": [
    {
     "name": "stdout",
     "output_type": "stream",
     "text": [
      "   Col1  Col2  Col3  Col4  Col5\n",
      "0    33    24    54    11    30\n",
      "1    39    75    36    64    80\n",
      "2    49    44    94    40    19\n",
      "3    98    34    60    50    56\n",
      "4    75    27    24    21    97\n",
      "5    51    92    17    14    25\n",
      "6    56    35    63    71    47\n"
     ]
    }
   ],
   "source": [
    "# Print the first 7 rows of the DataFrame\n",
    "print(df.head(7))"
   ]
  },
  {
   "cell_type": "code",
   "execution_count": 66,
   "id": "1221881d",
   "metadata": {},
   "outputs": [
    {
     "name": "stdout",
     "output_type": "stream",
     "text": [
      "    Col1  Col2  Col3  Col4  Col5\n",
      "11    57    72    41    18    55\n",
      "12    52    94    48    88    47\n",
      "13    38    81    66    30    43\n",
      "14    28    24    69    73    80\n"
     ]
    }
   ],
   "source": [
    "# Print the last 4 rows of the DataFrame\n",
    "print(df.tail(4))"
   ]
  },
  {
   "cell_type": "code",
   "execution_count": 67,
   "id": "81f87988",
   "metadata": {},
   "outputs": [
    {
     "name": "stdout",
     "output_type": "stream",
     "text": [
      "0    24\n",
      "1    75\n",
      "2    44\n",
      "Name: Col2, dtype: int32\n"
     ]
    }
   ],
   "source": [
    "# Print the first 3 rows of \"Col2\"\n",
    "print(df[\"Col2\"].head(3))"
   ]
  },
  {
   "cell_type": "code",
   "execution_count": 68,
   "id": "7c1fae6c",
   "metadata": {},
   "outputs": [
    {
     "name": "stdout",
     "output_type": "stream",
     "text": [
      "    Col1  Col2\n",
      "8     20    50\n",
      "9     81    58\n",
      "10    10    61\n",
      "11    57    72\n",
      "12    52    94\n"
     ]
    }
   ],
   "source": [
    "# Select rows 5 to 12 (inclusive), then select \"Col1\" and \"Col2\" \n",
    "# with last 5 rows\n",
    "print(df[5:13][[\"Col1\", \"Col2\"]].tail())"
   ]
  },
  {
   "cell_type": "code",
   "execution_count": 69,
   "id": "204da8e3",
   "metadata": {},
   "outputs": [
    {
     "name": "stdout",
     "output_type": "stream",
     "text": [
      "    Col1  Col2  Col3  Col4  Col5\n",
      "0    NaN   NaN  54.0   NaN   NaN\n",
      "1    NaN  75.0   NaN  64.0  80.0\n",
      "2    NaN   NaN  94.0   NaN   NaN\n",
      "3   98.0   NaN  60.0   NaN  56.0\n",
      "4   75.0   NaN   NaN   NaN  97.0\n",
      "5   51.0  92.0   NaN   NaN   NaN\n",
      "6   56.0   NaN  63.0  71.0   NaN\n",
      "7   93.0   NaN  67.0   NaN   NaN\n",
      "8    NaN   NaN  62.0  75.0  59.0\n",
      "9   81.0  58.0   NaN  79.0  80.0\n",
      "10   NaN  61.0   NaN   NaN   NaN\n",
      "11  57.0  72.0   NaN   NaN  55.0\n",
      "12  52.0  94.0   NaN  88.0   NaN\n",
      "13   NaN  81.0  66.0   NaN   NaN\n",
      "14   NaN   NaN  69.0  73.0  80.0\n"
     ]
    }
   ],
   "source": [
    "# Print DataFrame where values greater than 50 are displayed, \n",
    "# others will show as NaN\n",
    "print(df[df > 50])"
   ]
  },
  {
   "cell_type": "code",
   "execution_count": 70,
   "id": "7a0266f6",
   "metadata": {},
   "outputs": [
    {
     "name": "stdout",
     "output_type": "stream",
     "text": [
      "    Col1  Col2  Col3  Col4  Col5\n",
      "3     98    34    60    50    56\n",
      "4     75    27    24    21    97\n",
      "5     51    92    17    14    25\n",
      "6     56    35    63    71    47\n",
      "7     93    36    67    14    13\n",
      "9     81    58    43    79    80\n",
      "11    57    72    41    18    55\n",
      "12    52    94    48    88    47\n"
     ]
    }
   ],
   "source": [
    "# Print rows where values in \"Col1\" are greater than 50\n",
    "print(df[df[\"Col1\"] > 50])  # !!!"
   ]
  },
  {
   "cell_type": "code",
   "execution_count": 71,
   "id": "affe7b8c",
   "metadata": {},
   "outputs": [
    {
     "name": "stdout",
     "output_type": "stream",
     "text": [
      "    Col1  Col2  Col3\n",
      "3     98    34    60\n",
      "4     75    27    24\n",
      "5     51    92    17\n",
      "6     56    35    63\n",
      "7     93    36    67\n",
      "9     81    58    43\n",
      "11    57    72    41\n",
      "12    52    94    48\n"
     ]
    }
   ],
   "source": [
    "# Print \"Col1\", \"Col2\", and \"Col3\" where \"Col1\" is greater than 50\n",
    "print(df[df[\"Col1\"] > 50][[\"Col1\", \"Col2\", \"Col3\"]])  # !!!"
   ]
  },
  {
   "cell_type": "code",
   "execution_count": 72,
   "id": "17e2e50f",
   "metadata": {},
   "outputs": [
    {
     "name": "stdout",
     "output_type": "stream",
     "text": [
      "    Col1  Col2  Col3  Col4  Col5\n",
      "3     98    34    60    50    56\n",
      "4     75    27    24    21    97\n",
      "6     56    35    63    71    47\n",
      "7     93    36    67    14    13\n",
      "9     81    58    43    79    80\n",
      "11    57    72    41    18    55\n"
     ]
    }
   ],
   "source": [
    "# Print rows where \"Col1\" is greater than 50 AND \"Col2\" is less than 76\n",
    "print(df[(df[\"Col1\"] > 50) & (df[\"Col2\"] < 76)])  # !!!"
   ]
  },
  {
   "cell_type": "code",
   "execution_count": 73,
   "id": "0e1e463f",
   "metadata": {},
   "outputs": [
    {
     "name": "stdout",
     "output_type": "stream",
     "text": [
      "    Col1  Col2  Col3  Col4  Col5\n",
      "3     98    34    60    50    56\n",
      "4     75    27    24    21    97\n",
      "5     51    92    17    14    25\n",
      "6     56    35    63    71    47\n",
      "7     93    36    67    14    13\n",
      "9     81    58    43    79    80\n",
      "11    57    72    41    18    55\n",
      "12    52    94    48    88    47\n",
      "14    28    24    69    73    80\n"
     ]
    }
   ],
   "source": [
    "# Print rows where \"Col1\" is greater than 50 OR \"Col3\" is an odd number\n",
    "print(df[(df[\"Col1\"] > 50) | (df[\"Col3\"] % 2 == 1)])  # !!!"
   ]
  },
  {
   "cell_type": "code",
   "execution_count": 74,
   "id": "b961b208",
   "metadata": {},
   "outputs": [
    {
     "name": "stdout",
     "output_type": "stream",
     "text": [
      "Empty DataFrame\n",
      "Columns: [Col1, Col2, Col3]\n",
      "Index: []\n"
     ]
    }
   ],
   "source": [
    "#Query using a condition: \"Col1\" greater than 60 AND \"Col3\" greater than 80\n",
    "#Then print \"Col1\", \"Col2\", and \"Col3\" for these rows\n",
    "print(df.query(\"Col1 > 60 & Col3 > 80\")[[\"Col1\", \"Col2\", \"Col3\"]])"
   ]
  },
  {
   "cell_type": "code",
   "execution_count": null,
   "id": "6fe3a622",
   "metadata": {},
   "outputs": [],
   "source": []
  }
 ],
 "metadata": {
  "kernelspec": {
   "display_name": "Python 3 (ipykernel)",
   "language": "python",
   "name": "python3"
  },
  "language_info": {
   "codemirror_mode": {
    "name": "ipython",
    "version": 3
   },
   "file_extension": ".py",
   "mimetype": "text/x-python",
   "name": "python",
   "nbconvert_exporter": "python",
   "pygments_lexer": "ipython3",
   "version": "3.11.3"
  }
 },
 "nbformat": 4,
 "nbformat_minor": 5
}
